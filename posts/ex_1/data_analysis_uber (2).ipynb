{
  "cells": [
    {
      "attachments": {},
      "cell_type": "markdown",
      "metadata": {},
      "source": [
        "---\n",
        "title: \"data_analysis_uber\"\n",
        "author: \"Hyeonho Jeong\"\n",
        "date: \"2023-05-29\"\n",
        "categories: [code]\n",
        "image: \"image.png\"\n",
        "---\n",
        "\n",
        "data_analysis_uber 입니다."
      ]
    },
    {
      "cell_type": "code",
      "execution_count": null,
      "metadata": {
        "id": "PxXnSFEWh8eL"
      },
      "outputs": [],
      "source": [
        "from google.colab import drive\n",
        "drive.mount('/content/drive')"
      ]
    },
    {
      "cell_type": "code",
      "execution_count": null,
      "metadata": {
        "colab": {
          "base_uri": "https://localhost:8080/"
        },
        "id": "w6Il-b4iivVL",
        "outputId": "6f0bf8cc-be63-4a89-aa4f-50ba243077fc"
      },
      "outputs": [
        {
          "name": "stdout",
          "output_type": "stream",
          "text": [
            "Looking in indexes: https://pypi.org/simple, https://us-python.pkg.dev/colab-wheels/public/simple/\n",
            "Collecting h3\n",
            "  Downloading h3-3.7.6-cp310-cp310-manylinux_2_17_x86_64.manylinux2014_x86_64.whl (1.1 MB)\n",
            "\u001b[2K     \u001b[90m━━━━━━━━━━━━━━━━━━━━━━━━━━━━━━━━━━━━━━━━\u001b[0m \u001b[32m1.1/1.1 MB\u001b[0m \u001b[31m17.7 MB/s\u001b[0m eta \u001b[36m0:00:00\u001b[0m\n",
            "\u001b[?25hInstalling collected packages: h3\n",
            "Successfully installed h3-3.7.6\n"
          ]
        }
      ],
      "source": [
        "!pip install h3"
      ]
    },
    {
      "cell_type": "code",
      "execution_count": null,
      "metadata": {
        "colab": {
          "base_uri": "https://localhost:8080/"
        },
        "id": "M7OWce90i58T",
        "outputId": "d4c2bfb9-e847-40b4-8b72-61ae32e8f519"
      },
      "outputs": [
        {
          "name": "stdout",
          "output_type": "stream",
          "text": [
            "Looking in indexes: https://pypi.org/simple, https://us-python.pkg.dev/colab-wheels/public/simple/\n",
            "Collecting pydeck\n",
            "  Downloading pydeck-0.8.0-py2.py3-none-any.whl (4.7 MB)\n",
            "\u001b[2K     \u001b[90m━━━━━━━━━━━━━━━━━━━━━━━━━━━━━━━━━━━━━━━━\u001b[0m \u001b[32m4.7/4.7 MB\u001b[0m \u001b[31m12.2 MB/s\u001b[0m eta \u001b[36m0:00:00\u001b[0m\n",
            "\u001b[?25hRequirement already satisfied: jinja2>=2.10.1 in /usr/local/lib/python3.10/dist-packages (from pydeck) (3.1.2)\n",
            "Requirement already satisfied: numpy>=1.16.4 in /usr/local/lib/python3.10/dist-packages (from pydeck) (1.22.4)\n",
            "Requirement already satisfied: MarkupSafe>=2.0 in /usr/local/lib/python3.10/dist-packages (from jinja2>=2.10.1->pydeck) (2.1.2)\n",
            "Installing collected packages: pydeck\n",
            "Successfully installed pydeck-0.8.0\n"
          ]
        }
      ],
      "source": [
        "!pip install pydeck"
      ]
    },
    {
      "cell_type": "code",
      "execution_count": null,
      "metadata": {
        "id": "T4PBtYrahrb3"
      },
      "outputs": [],
      "source": [
        "import pandas as pd\n",
        "import matplotlib.pyplot as plt\n",
        "from h3 import h3\n",
        "from collections import Counter\n",
        "import pydeck as pdk\n"
      ]
    },
    {
      "cell_type": "code",
      "execution_count": null,
      "metadata": {
        "id": "ar186MAChrb7"
      },
      "outputs": [],
      "source": [
        "H3_HEX_DATA = \"https://raw.githubusercontent.com/visgl/deck.gl-data/master/website/sf.h3cells.json\"\n",
        "\n",
        "df = pd.read_json(H3_HEX_DATA)\n",
        "\n",
        "# Define a layer to display on a map\n",
        "layer = pdk.Layer(\n",
        "    \"H3HexagonLayer\",\n",
        "    df,\n",
        "    pickable=True,\n",
        "    stroked=True,\n",
        "    filled=True,\n",
        "    extruded=False,\n",
        "    get_hexagon=\"hex\",\n",
        "    get_fill_color=\"[255 - count, 255, count]\",\n",
        "    get_line_color=[255, 255, 255],\n",
        "    line_width_min_pixels=2,\n",
        ")\n",
        "\n",
        "# Set the viewport location\n",
        "view_state = pdk.ViewState(latitude=37.7749295, longitude=-122.4194155, zoom=14, bearing=0, pitch=30)\n",
        "\n",
        "\n",
        "# Render\n",
        "r = pdk.Deck(layers=[layer], initial_view_state=view_state, tooltip={\"text\": \"Count: {count}\"})\n",
        "r.show()"
      ]
    },
    {
      "cell_type": "code",
      "execution_count": null,
      "metadata": {
        "colab": {
          "base_uri": "https://localhost:8080/"
        },
        "id": "WajM8RXohrb8",
        "outputId": "0a350765-c725-4128-a117-cc32a35d9e5c"
      },
      "outputs": [
        {
          "name": "stdout",
          "output_type": "stream",
          "text": [
            "          Date/Time      Lat      Lon    Base\n",
            "0  4/1/2014 0:11:00  40.7690 -73.9549  B02512\n",
            "1  4/1/2014 0:17:00  40.7267 -74.0345  B02512\n",
            "2  4/1/2014 0:21:00  40.7316 -73.9873  B02512\n",
            "3  4/1/2014 0:28:00  40.7588 -73.9776  B02512\n",
            "4  4/1/2014 0:33:00  40.7594 -73.9722  B02512\n"
          ]
        }
      ],
      "source": [
        "# 데이터 로드\n",
        "df = pd.read_csv('https://github.com/fivethirtyeight/uber-tlc-foil-response/raw/master/uber-trip-data/uber-raw-data-apr14.csv')\n",
        "\n",
        "# 데이터셋 확인\n",
        "print(df.head())"
      ]
    },
    {
      "cell_type": "code",
      "execution_count": null,
      "metadata": {
        "colab": {
          "base_uri": "https://localhost:8080/",
          "height": 423
        },
        "id": "hTbybbQAszeO",
        "outputId": "9429575d-729a-41a0-f226-f1cd26ebf3cb"
      },
      "outputs": [
        {
          "data": {
            "text/html": [
              "\n",
              "  <div id=\"df-ec05f3a1-f9a0-475f-848d-91e1e75cc5c8\">\n",
              "    <div class=\"colab-df-container\">\n",
              "      <div>\n",
              "<style scoped>\n",
              "    .dataframe tbody tr th:only-of-type {\n",
              "        vertical-align: middle;\n",
              "    }\n",
              "\n",
              "    .dataframe tbody tr th {\n",
              "        vertical-align: top;\n",
              "    }\n",
              "\n",
              "    .dataframe thead th {\n",
              "        text-align: right;\n",
              "    }\n",
              "</style>\n",
              "<table border=\"1\" class=\"dataframe\">\n",
              "  <thead>\n",
              "    <tr style=\"text-align: right;\">\n",
              "      <th></th>\n",
              "      <th>Date/Time</th>\n",
              "      <th>Lat</th>\n",
              "      <th>Lon</th>\n",
              "      <th>Base</th>\n",
              "    </tr>\n",
              "  </thead>\n",
              "  <tbody>\n",
              "    <tr>\n",
              "      <th>0</th>\n",
              "      <td>4/1/2014 0:11:00</td>\n",
              "      <td>40.7690</td>\n",
              "      <td>-73.9549</td>\n",
              "      <td>B02512</td>\n",
              "    </tr>\n",
              "    <tr>\n",
              "      <th>1</th>\n",
              "      <td>4/1/2014 0:17:00</td>\n",
              "      <td>40.7267</td>\n",
              "      <td>-74.0345</td>\n",
              "      <td>B02512</td>\n",
              "    </tr>\n",
              "    <tr>\n",
              "      <th>2</th>\n",
              "      <td>4/1/2014 0:21:00</td>\n",
              "      <td>40.7316</td>\n",
              "      <td>-73.9873</td>\n",
              "      <td>B02512</td>\n",
              "    </tr>\n",
              "    <tr>\n",
              "      <th>3</th>\n",
              "      <td>4/1/2014 0:28:00</td>\n",
              "      <td>40.7588</td>\n",
              "      <td>-73.9776</td>\n",
              "      <td>B02512</td>\n",
              "    </tr>\n",
              "    <tr>\n",
              "      <th>4</th>\n",
              "      <td>4/1/2014 0:33:00</td>\n",
              "      <td>40.7594</td>\n",
              "      <td>-73.9722</td>\n",
              "      <td>B02512</td>\n",
              "    </tr>\n",
              "    <tr>\n",
              "      <th>...</th>\n",
              "      <td>...</td>\n",
              "      <td>...</td>\n",
              "      <td>...</td>\n",
              "      <td>...</td>\n",
              "    </tr>\n",
              "    <tr>\n",
              "      <th>564511</th>\n",
              "      <td>4/30/2014 23:22:00</td>\n",
              "      <td>40.7640</td>\n",
              "      <td>-73.9744</td>\n",
              "      <td>B02764</td>\n",
              "    </tr>\n",
              "    <tr>\n",
              "      <th>564512</th>\n",
              "      <td>4/30/2014 23:26:00</td>\n",
              "      <td>40.7629</td>\n",
              "      <td>-73.9672</td>\n",
              "      <td>B02764</td>\n",
              "    </tr>\n",
              "    <tr>\n",
              "      <th>564513</th>\n",
              "      <td>4/30/2014 23:31:00</td>\n",
              "      <td>40.7443</td>\n",
              "      <td>-73.9889</td>\n",
              "      <td>B02764</td>\n",
              "    </tr>\n",
              "    <tr>\n",
              "      <th>564514</th>\n",
              "      <td>4/30/2014 23:32:00</td>\n",
              "      <td>40.6756</td>\n",
              "      <td>-73.9405</td>\n",
              "      <td>B02764</td>\n",
              "    </tr>\n",
              "    <tr>\n",
              "      <th>564515</th>\n",
              "      <td>4/30/2014 23:48:00</td>\n",
              "      <td>40.6880</td>\n",
              "      <td>-73.9608</td>\n",
              "      <td>B02764</td>\n",
              "    </tr>\n",
              "  </tbody>\n",
              "</table>\n",
              "<p>564516 rows × 4 columns</p>\n",
              "</div>\n",
              "      <button class=\"colab-df-convert\" onclick=\"convertToInteractive('df-ec05f3a1-f9a0-475f-848d-91e1e75cc5c8')\"\n",
              "              title=\"Convert this dataframe to an interactive table.\"\n",
              "              style=\"display:none;\">\n",
              "        \n",
              "  <svg xmlns=\"http://www.w3.org/2000/svg\" height=\"24px\"viewBox=\"0 0 24 24\"\n",
              "       width=\"24px\">\n",
              "    <path d=\"M0 0h24v24H0V0z\" fill=\"none\"/>\n",
              "    <path d=\"M18.56 5.44l.94 2.06.94-2.06 2.06-.94-2.06-.94-.94-2.06-.94 2.06-2.06.94zm-11 1L8.5 8.5l.94-2.06 2.06-.94-2.06-.94L8.5 2.5l-.94 2.06-2.06.94zm10 10l.94 2.06.94-2.06 2.06-.94-2.06-.94-.94-2.06-.94 2.06-2.06.94z\"/><path d=\"M17.41 7.96l-1.37-1.37c-.4-.4-.92-.59-1.43-.59-.52 0-1.04.2-1.43.59L10.3 9.45l-7.72 7.72c-.78.78-.78 2.05 0 2.83L4 21.41c.39.39.9.59 1.41.59.51 0 1.02-.2 1.41-.59l7.78-7.78 2.81-2.81c.8-.78.8-2.07 0-2.86zM5.41 20L4 18.59l7.72-7.72 1.47 1.35L5.41 20z\"/>\n",
              "  </svg>\n",
              "      </button>\n",
              "      \n",
              "  <style>\n",
              "    .colab-df-container {\n",
              "      display:flex;\n",
              "      flex-wrap:wrap;\n",
              "      gap: 12px;\n",
              "    }\n",
              "\n",
              "    .colab-df-convert {\n",
              "      background-color: #E8F0FE;\n",
              "      border: none;\n",
              "      border-radius: 50%;\n",
              "      cursor: pointer;\n",
              "      display: none;\n",
              "      fill: #1967D2;\n",
              "      height: 32px;\n",
              "      padding: 0 0 0 0;\n",
              "      width: 32px;\n",
              "    }\n",
              "\n",
              "    .colab-df-convert:hover {\n",
              "      background-color: #E2EBFA;\n",
              "      box-shadow: 0px 1px 2px rgba(60, 64, 67, 0.3), 0px 1px 3px 1px rgba(60, 64, 67, 0.15);\n",
              "      fill: #174EA6;\n",
              "    }\n",
              "\n",
              "    [theme=dark] .colab-df-convert {\n",
              "      background-color: #3B4455;\n",
              "      fill: #D2E3FC;\n",
              "    }\n",
              "\n",
              "    [theme=dark] .colab-df-convert:hover {\n",
              "      background-color: #434B5C;\n",
              "      box-shadow: 0px 1px 3px 1px rgba(0, 0, 0, 0.15);\n",
              "      filter: drop-shadow(0px 1px 2px rgba(0, 0, 0, 0.3));\n",
              "      fill: #FFFFFF;\n",
              "    }\n",
              "  </style>\n",
              "\n",
              "      <script>\n",
              "        const buttonEl =\n",
              "          document.querySelector('#df-ec05f3a1-f9a0-475f-848d-91e1e75cc5c8 button.colab-df-convert');\n",
              "        buttonEl.style.display =\n",
              "          google.colab.kernel.accessAllowed ? 'block' : 'none';\n",
              "\n",
              "        async function convertToInteractive(key) {\n",
              "          const element = document.querySelector('#df-ec05f3a1-f9a0-475f-848d-91e1e75cc5c8');\n",
              "          const dataTable =\n",
              "            await google.colab.kernel.invokeFunction('convertToInteractive',\n",
              "                                                     [key], {});\n",
              "          if (!dataTable) return;\n",
              "\n",
              "          const docLinkHtml = 'Like what you see? Visit the ' +\n",
              "            '<a target=\"_blank\" href=https://colab.research.google.com/notebooks/data_table.ipynb>data table notebook</a>'\n",
              "            + ' to learn more about interactive tables.';\n",
              "          element.innerHTML = '';\n",
              "          dataTable['output_type'] = 'display_data';\n",
              "          await google.colab.output.renderOutput(dataTable, element);\n",
              "          const docLink = document.createElement('div');\n",
              "          docLink.innerHTML = docLinkHtml;\n",
              "          element.appendChild(docLink);\n",
              "        }\n",
              "      </script>\n",
              "    </div>\n",
              "  </div>\n",
              "  "
            ],
            "text/plain": [
              "                 Date/Time      Lat      Lon    Base\n",
              "0         4/1/2014 0:11:00  40.7690 -73.9549  B02512\n",
              "1         4/1/2014 0:17:00  40.7267 -74.0345  B02512\n",
              "2         4/1/2014 0:21:00  40.7316 -73.9873  B02512\n",
              "3         4/1/2014 0:28:00  40.7588 -73.9776  B02512\n",
              "4         4/1/2014 0:33:00  40.7594 -73.9722  B02512\n",
              "...                    ...      ...      ...     ...\n",
              "564511  4/30/2014 23:22:00  40.7640 -73.9744  B02764\n",
              "564512  4/30/2014 23:26:00  40.7629 -73.9672  B02764\n",
              "564513  4/30/2014 23:31:00  40.7443 -73.9889  B02764\n",
              "564514  4/30/2014 23:32:00  40.6756 -73.9405  B02764\n",
              "564515  4/30/2014 23:48:00  40.6880 -73.9608  B02764\n",
              "\n",
              "[564516 rows x 4 columns]"
            ]
          },
          "execution_count": 19,
          "metadata": {},
          "output_type": "execute_result"
        }
      ],
      "source": [
        "df"
      ]
    },
    {
      "cell_type": "code",
      "execution_count": null,
      "metadata": {
        "colab": {
          "base_uri": "https://localhost:8080/"
        },
        "id": "IVkUW-3kuxGC",
        "outputId": "62dadbf5-2833-4366-8929-48d4ef5fe3eb"
      },
      "outputs": [
        {
          "data": {
            "text/plain": [
              "pandas.core.frame.DataFrame"
            ]
          },
          "execution_count": 20,
          "metadata": {},
          "output_type": "execute_result"
        }
      ],
      "source": [
        "type(df)"
      ]
    },
    {
      "attachments": {},
      "cell_type": "markdown",
      "metadata": {
        "id": "oQDgTJ6Whrb8"
      },
      "source": [
        "- Date/Time: 여행이 시작된 날짜와 시간 정보. 예를 들어, 4/1/2014 0:11:00는 2014년 4월 1일 오전 0시 11분에 시작된 여행을 의미합니다.\n",
        "- Lat: 출발지의 위도 정보. 위도는 지구의 남북 위치를 나타내는 수치입니다.\n",
        "- Lon: 출발지의 경도 정보. 경도는 지구의 동서 위치를 나타내는 수치입니다.\n",
        "- Base: Uber의 서비스를 제공하는 특정 \"베이스 코드\"가 포함되어 있습니다. 이 코드는 보통 특정 Uber 서비스 센터 또는 운영 지역을 나타냅니다."
      ]
    },
    {
      "cell_type": "code",
      "execution_count": null,
      "metadata": {
        "colab": {
          "base_uri": "https://localhost:8080/",
          "height": 300
        },
        "id": "JUTQr6y2hrb-",
        "outputId": "0602ddf9-913a-4e35-bf53-3bc497cfe2a0"
      },
      "outputs": [
        {
          "data": {
            "text/html": [
              "\n",
              "  <div id=\"df-611683dc-3a23-4289-8027-05422aad12f5\">\n",
              "    <div class=\"colab-df-container\">\n",
              "      <div>\n",
              "<style scoped>\n",
              "    .dataframe tbody tr th:only-of-type {\n",
              "        vertical-align: middle;\n",
              "    }\n",
              "\n",
              "    .dataframe tbody tr th {\n",
              "        vertical-align: top;\n",
              "    }\n",
              "\n",
              "    .dataframe thead th {\n",
              "        text-align: right;\n",
              "    }\n",
              "</style>\n",
              "<table border=\"1\" class=\"dataframe\">\n",
              "  <thead>\n",
              "    <tr style=\"text-align: right;\">\n",
              "      <th></th>\n",
              "      <th>Lat</th>\n",
              "      <th>Lon</th>\n",
              "    </tr>\n",
              "  </thead>\n",
              "  <tbody>\n",
              "    <tr>\n",
              "      <th>count</th>\n",
              "      <td>564516.000000</td>\n",
              "      <td>564516.000000</td>\n",
              "    </tr>\n",
              "    <tr>\n",
              "      <th>mean</th>\n",
              "      <td>40.740005</td>\n",
              "      <td>-73.976817</td>\n",
              "    </tr>\n",
              "    <tr>\n",
              "      <th>std</th>\n",
              "      <td>0.036083</td>\n",
              "      <td>0.050426</td>\n",
              "    </tr>\n",
              "    <tr>\n",
              "      <th>min</th>\n",
              "      <td>40.072900</td>\n",
              "      <td>-74.773300</td>\n",
              "    </tr>\n",
              "    <tr>\n",
              "      <th>25%</th>\n",
              "      <td>40.722500</td>\n",
              "      <td>-73.997700</td>\n",
              "    </tr>\n",
              "    <tr>\n",
              "      <th>50%</th>\n",
              "      <td>40.742500</td>\n",
              "      <td>-73.984800</td>\n",
              "    </tr>\n",
              "    <tr>\n",
              "      <th>75%</th>\n",
              "      <td>40.760700</td>\n",
              "      <td>-73.970000</td>\n",
              "    </tr>\n",
              "    <tr>\n",
              "      <th>max</th>\n",
              "      <td>42.116600</td>\n",
              "      <td>-72.066600</td>\n",
              "    </tr>\n",
              "  </tbody>\n",
              "</table>\n",
              "</div>\n",
              "      <button class=\"colab-df-convert\" onclick=\"convertToInteractive('df-611683dc-3a23-4289-8027-05422aad12f5')\"\n",
              "              title=\"Convert this dataframe to an interactive table.\"\n",
              "              style=\"display:none;\">\n",
              "        \n",
              "  <svg xmlns=\"http://www.w3.org/2000/svg\" height=\"24px\"viewBox=\"0 0 24 24\"\n",
              "       width=\"24px\">\n",
              "    <path d=\"M0 0h24v24H0V0z\" fill=\"none\"/>\n",
              "    <path d=\"M18.56 5.44l.94 2.06.94-2.06 2.06-.94-2.06-.94-.94-2.06-.94 2.06-2.06.94zm-11 1L8.5 8.5l.94-2.06 2.06-.94-2.06-.94L8.5 2.5l-.94 2.06-2.06.94zm10 10l.94 2.06.94-2.06 2.06-.94-2.06-.94-.94-2.06-.94 2.06-2.06.94z\"/><path d=\"M17.41 7.96l-1.37-1.37c-.4-.4-.92-.59-1.43-.59-.52 0-1.04.2-1.43.59L10.3 9.45l-7.72 7.72c-.78.78-.78 2.05 0 2.83L4 21.41c.39.39.9.59 1.41.59.51 0 1.02-.2 1.41-.59l7.78-7.78 2.81-2.81c.8-.78.8-2.07 0-2.86zM5.41 20L4 18.59l7.72-7.72 1.47 1.35L5.41 20z\"/>\n",
              "  </svg>\n",
              "      </button>\n",
              "      \n",
              "  <style>\n",
              "    .colab-df-container {\n",
              "      display:flex;\n",
              "      flex-wrap:wrap;\n",
              "      gap: 12px;\n",
              "    }\n",
              "\n",
              "    .colab-df-convert {\n",
              "      background-color: #E8F0FE;\n",
              "      border: none;\n",
              "      border-radius: 50%;\n",
              "      cursor: pointer;\n",
              "      display: none;\n",
              "      fill: #1967D2;\n",
              "      height: 32px;\n",
              "      padding: 0 0 0 0;\n",
              "      width: 32px;\n",
              "    }\n",
              "\n",
              "    .colab-df-convert:hover {\n",
              "      background-color: #E2EBFA;\n",
              "      box-shadow: 0px 1px 2px rgba(60, 64, 67, 0.3), 0px 1px 3px 1px rgba(60, 64, 67, 0.15);\n",
              "      fill: #174EA6;\n",
              "    }\n",
              "\n",
              "    [theme=dark] .colab-df-convert {\n",
              "      background-color: #3B4455;\n",
              "      fill: #D2E3FC;\n",
              "    }\n",
              "\n",
              "    [theme=dark] .colab-df-convert:hover {\n",
              "      background-color: #434B5C;\n",
              "      box-shadow: 0px 1px 3px 1px rgba(0, 0, 0, 0.15);\n",
              "      filter: drop-shadow(0px 1px 2px rgba(0, 0, 0, 0.3));\n",
              "      fill: #FFFFFF;\n",
              "    }\n",
              "  </style>\n",
              "\n",
              "      <script>\n",
              "        const buttonEl =\n",
              "          document.querySelector('#df-611683dc-3a23-4289-8027-05422aad12f5 button.colab-df-convert');\n",
              "        buttonEl.style.display =\n",
              "          google.colab.kernel.accessAllowed ? 'block' : 'none';\n",
              "\n",
              "        async function convertToInteractive(key) {\n",
              "          const element = document.querySelector('#df-611683dc-3a23-4289-8027-05422aad12f5');\n",
              "          const dataTable =\n",
              "            await google.colab.kernel.invokeFunction('convertToInteractive',\n",
              "                                                     [key], {});\n",
              "          if (!dataTable) return;\n",
              "\n",
              "          const docLinkHtml = 'Like what you see? Visit the ' +\n",
              "            '<a target=\"_blank\" href=https://colab.research.google.com/notebooks/data_table.ipynb>data table notebook</a>'\n",
              "            + ' to learn more about interactive tables.';\n",
              "          element.innerHTML = '';\n",
              "          dataTable['output_type'] = 'display_data';\n",
              "          await google.colab.output.renderOutput(dataTable, element);\n",
              "          const docLink = document.createElement('div');\n",
              "          docLink.innerHTML = docLinkHtml;\n",
              "          element.appendChild(docLink);\n",
              "        }\n",
              "      </script>\n",
              "    </div>\n",
              "  </div>\n",
              "  "
            ],
            "text/plain": [
              "                 Lat            Lon\n",
              "count  564516.000000  564516.000000\n",
              "mean       40.740005     -73.976817\n",
              "std         0.036083       0.050426\n",
              "min        40.072900     -74.773300\n",
              "25%        40.722500     -73.997700\n",
              "50%        40.742500     -73.984800\n",
              "75%        40.760700     -73.970000\n",
              "max        42.116600     -72.066600"
            ]
          },
          "execution_count": 8,
          "metadata": {},
          "output_type": "execute_result"
        }
      ],
      "source": [
        "df.describe()"
      ]
    },
    {
      "attachments": {},
      "cell_type": "markdown",
      "metadata": {
        "id": "GlFAw3zThrb_"
      },
      "source": [
        "## 1. 데이터의 기본적인 indexing 및 slicing\n",
        "\n"
      ]
    },
    {
      "cell_type": "code",
      "execution_count": null,
      "metadata": {
        "colab": {
          "base_uri": "https://localhost:8080/"
        },
        "id": "KeQ2WHQJhrb_",
        "outputId": "090dc5b9-93d3-4fad-9d17-804f0f9e53b2"
      },
      "outputs": [
        {
          "name": "stdout",
          "output_type": "stream",
          "text": [
            "          Date/Time      Lat      Lon    Base\n",
            "0  4/1/2014 0:11:00  40.7690 -73.9549  B02512\n",
            "1  4/1/2014 0:17:00  40.7267 -74.0345  B02512\n",
            "2  4/1/2014 0:21:00  40.7316 -73.9873  B02512\n",
            "3  4/1/2014 0:28:00  40.7588 -73.9776  B02512\n",
            "4  4/1/2014 0:33:00  40.7594 -73.9722  B02512\n"
          ]
        }
      ],
      "source": [
        "# 처음 5개의 행을 출력\n",
        "print(df.head())\n"
      ]
    },
    {
      "cell_type": "code",
      "execution_count": null,
      "metadata": {
        "colab": {
          "base_uri": "https://localhost:8080/"
        },
        "id": "1te2AXH9hrcA",
        "outputId": "0165fedd-c4b5-43ae-cb22-2ae109ee9ebf"
      },
      "outputs": [
        {
          "name": "stdout",
          "output_type": "stream",
          "text": [
            "0         40.7690\n",
            "1         40.7267\n",
            "2         40.7316\n",
            "3         40.7588\n",
            "4         40.7594\n",
            "           ...   \n",
            "564511    40.7640\n",
            "564512    40.7629\n",
            "564513    40.7443\n",
            "564514    40.6756\n",
            "564515    40.6880\n",
            "Name: Lat, Length: 564516, dtype: float64\n"
          ]
        }
      ],
      "source": [
        "# 'Lat' 열의 값만 출력\n",
        "print(df['Lat'])"
      ]
    },
    {
      "cell_type": "code",
      "execution_count": null,
      "metadata": {
        "colab": {
          "base_uri": "https://localhost:8080/"
        },
        "id": "YLMcKPddhrcA",
        "outputId": "ef8606d2-3f7b-4985-d979-42061ab3765b"
      },
      "outputs": [
        {
          "name": "stdout",
          "output_type": "stream",
          "text": [
            "           Date/Time      Lat      Lon    Base\n",
            "10  4/1/2014 1:19:00  40.7256 -73.9869  B02512\n",
            "11  4/1/2014 1:48:00  40.7591 -73.9684  B02512\n",
            "12  4/1/2014 1:49:00  40.7271 -73.9803  B02512\n",
            "13  4/1/2014 2:11:00  40.6463 -73.7896  B02512\n",
            "14  4/1/2014 2:25:00  40.7564 -73.9167  B02512\n",
            "15  4/1/2014 2:31:00  40.7666 -73.9531  B02512\n",
            "16  4/1/2014 2:43:00  40.7580 -73.9761  B02512\n",
            "17  4/1/2014 3:22:00  40.7238 -73.9821  B02512\n",
            "18  4/1/2014 3:35:00  40.7531 -74.0039  B02512\n",
            "19  4/1/2014 3:35:00  40.7389 -74.0393  B02512\n",
            "20  4/1/2014 3:41:00  40.7619 -73.9715  B02512\n"
          ]
        }
      ],
      "source": [
        "# 10행부터 20행까지 출력\n",
        "print(df.iloc[10:21])"
      ]
    },
    {
      "cell_type": "code",
      "execution_count": null,
      "metadata": {
        "colab": {
          "base_uri": "https://localhost:8080/"
        },
        "id": "XxR1afH6hrcA",
        "outputId": "1eaf9dfc-af8a-4a2b-d6fa-14f5c0716c04"
      },
      "outputs": [
        {
          "data": {
            "text/plain": [
              "B02682    227808\n",
              "B02598    183263\n",
              "B02617    108001\n",
              "B02512     35536\n",
              "B02764      9908\n",
              "Name: Base, dtype: int64"
            ]
          },
          "execution_count": 12,
          "metadata": {},
          "output_type": "execute_result"
        }
      ],
      "source": [
        "# Base 갯수 확인\n",
        "df.Base.value_counts()"
      ]
    },
    {
      "attachments": {},
      "cell_type": "markdown",
      "metadata": {
        "id": "YHtk1uIqhrcB"
      },
      "source": [
        "## 2. 결측치에 대한 처리"
      ]
    },
    {
      "cell_type": "code",
      "execution_count": null,
      "metadata": {
        "colab": {
          "base_uri": "https://localhost:8080/"
        },
        "id": "7Xqhj0NBhrcB",
        "outputId": "c64d482e-2835-44b2-953d-9e5215cf6f0f"
      },
      "outputs": [
        {
          "name": "stdout",
          "output_type": "stream",
          "text": [
            "Date/Time    0\n",
            "Lat          0\n",
            "Lon          0\n",
            "Base         0\n",
            "dtype: int64\n"
          ]
        }
      ],
      "source": [
        "# 결측치 개수 확인\n",
        "print(df.isnull().sum())"
      ]
    },
    {
      "attachments": {},
      "cell_type": "markdown",
      "metadata": {
        "id": "6BgUjq_3hrcB"
      },
      "source": [
        "## 3. 기초적인 통계 추출 및 분석\n",
        "\n"
      ]
    },
    {
      "cell_type": "code",
      "execution_count": null,
      "metadata": {
        "colab": {
          "base_uri": "https://localhost:8080/"
        },
        "id": "cNiNSdHqhrcB",
        "outputId": "2cebe064-983f-4143-b3af-9388cf73885b"
      },
      "outputs": [
        {
          "name": "stdout",
          "output_type": "stream",
          "text": [
            "                 Lat            Lon\n",
            "count  564516.000000  564516.000000\n",
            "mean       40.740005     -73.976817\n",
            "std         0.036083       0.050426\n",
            "min        40.072900     -74.773300\n",
            "25%        40.722500     -73.997700\n",
            "50%        40.742500     -73.984800\n",
            "75%        40.760700     -73.970000\n",
            "max        42.116600     -72.066600\n",
            "40.74000520746974\n",
            "-73.9848\n",
            "B02682    227808\n",
            "B02598    183263\n",
            "B02617    108001\n",
            "B02512     35536\n",
            "B02764      9908\n",
            "Name: Base, dtype: int64\n"
          ]
        }
      ],
      "source": [
        "# 데이터 요약\n",
        "print(df.describe())\n",
        "\n",
        "# 'Lat' 열의 평균\n",
        "print(df['Lat'].mean())\n",
        "\n",
        "# 'Lon' 열의 중앙값\n",
        "print(df['Lon'].median())\n",
        "\n",
        "# 'Base' 열에서 각 값의 빈도수 출력\n",
        "print(df['Base'].value_counts())"
      ]
    },
    {
      "attachments": {},
      "cell_type": "markdown",
      "metadata": {
        "id": "EXsxuxV2hrcC"
      },
      "source": [
        "## 4. 데이터에 대한 질문을 던져보고 해답을 찾기\n",
        "\n"
      ]
    },
    {
      "attachments": {},
      "cell_type": "markdown",
      "metadata": {
        "id": "_6ChuOj4hrcC"
      },
      "source": [
        "### 4.1 월별/요일별 Uber 이용량 비교\n",
        "- 가장 Uber 이용량이 많은 요일은 언제일까요?"
      ]
    },
    {
      "cell_type": "code",
      "execution_count": null,
      "metadata": {
        "colab": {
          "base_uri": "https://localhost:8080/",
          "height": 1000
        },
        "id": "bwv_IEhDv5IP",
        "outputId": "3c77ce42-21ac-4421-8210-099589994e54"
      },
      "outputs": [
        {
          "data": {
            "image/png": "[encoded data removed]",
            "text/plain": [
              "<Figure size 1000x600 with 1 Axes>"
            ]
          },
          "metadata": {},
          "output_type": "display_data"
        },
        {
          "data": {
            "image/png": "[encoded data removed]",
            "text/plain": [
              "<Figure size 1000x600 with 1 Axes>"
            ]
          },
          "metadata": {},
          "output_type": "display_data"
        },
        {
          "name": "stdout",
          "output_type": "stream",
          "text": [
            "가장 Uber 이용량이 많은 요일: 2\n"
          ]
        }
      ],
      "source": [
        "import pandas as pd\n",
        "import matplotlib.pyplot as plt\n",
        "\n",
        "# 데이터 로드\n",
        "df = pd.read_csv('https://github.com/fivethirtyeight/uber-tlc-foil-response/raw/master/uber-trip-data/uber-raw-data-apr14.csv')\n",
        "\n",
        "# 'Date/Time' 열을 datetime 형식으로 변환\n",
        "df['Date/Time'] = pd.to_datetime(df['Date/Time'])\n",
        "\n",
        "# 월별 이용량 계산\n",
        "df['Month'] = df['Date/Time'].dt.month\n",
        "monthly_counts = df['Month'].value_counts().sort_index()\n",
        "\n",
        "# 월별 이용량 시각화\n",
        "plt.figure(figsize=(10, 6))\n",
        "monthly_counts.plot(kind='bar')\n",
        "plt.xlabel('Month')\n",
        "plt.ylabel('Uber Trips')\n",
        "plt.title('Monthly Uber Trips')\n",
        "plt.xticks(rotation=0)\n",
        "plt.show()\n",
        "\n",
        "# 요일별 이용량 계산\n",
        "df['Weekday'] = df['Date/Time'].dt.weekday\n",
        "weekday_counts = df['Weekday'].value_counts().sort_index()\n",
        "\n",
        "# 요일별 이용량 시각화\n",
        "plt.figure(figsize=(10, 6))\n",
        "weekday_counts.plot(kind='bar')\n",
        "plt.xlabel('Weekday')\n",
        "plt.ylabel('Uber Trips')\n",
        "plt.title('Uber Trips by Weekday')\n",
        "plt.xticks(rotation=0)\n",
        "plt.show()\n",
        "\n",
        "# 가장 많은 이용량을 기록한 요일 식별\n",
        "most_popular_weekday = weekday_counts.idxmax()\n",
        "print('가장 Uber 이용량이 많은 요일:', most_popular_weekday)"
      ]
    },
    {
      "attachments": {},
      "cell_type": "markdown",
      "metadata": {
        "id": "z3bpI9vOhrcC"
      },
      "source": [
        "### 4.2 시간대별 이용량 비교\n",
        "\n",
        "- 가장 이용량이 많은 시간대는 언제일까요? \n"
      ]
    },
    {
      "cell_type": "code",
      "execution_count": null,
      "metadata": {
        "colab": {
          "base_uri": "https://localhost:8080/",
          "height": 583
        },
        "id": "OMwCsryFv5g6",
        "outputId": "313f2ca7-12a0-4b5b-c2d7-d4690a710da8"
      },
      "outputs": [
        {
          "data": {
            "image/png": "[encoded data removed]",
            "text/plain": [
              "<Figure size 1000x600 with 1 Axes>"
            ]
          },
          "metadata": {},
          "output_type": "display_data"
        },
        {
          "name": "stdout",
          "output_type": "stream",
          "text": [
            "가장 Uber 이용량이 많은 시간대: 17\n"
          ]
        }
      ],
      "source": [
        "import pandas as pd\n",
        "import matplotlib.pyplot as plt\n",
        "\n",
        "# 데이터 로드\n",
        "df = pd.read_csv('https://github.com/fivethirtyeight/uber-tlc-foil-response/raw/master/uber-trip-data/uber-raw-data-apr14.csv')\n",
        "\n",
        "# 'Date/Time' 열을 datetime 형식으로 변환\n",
        "df['Date/Time'] = pd.to_datetime(df['Date/Time'])\n",
        "\n",
        "# 시간대별 이용량 계산\n",
        "df['Hour'] = df['Date/Time'].dt.hour\n",
        "hourly_counts = df['Hour'].value_counts().sort_index()\n",
        "\n",
        "# 시간대별 이용량 시각화\n",
        "plt.figure(figsize=(10, 6))\n",
        "hourly_counts.plot(kind='bar')\n",
        "plt.xlabel('Hour')\n",
        "plt.ylabel('Uber Trips')\n",
        "plt.title('Uber Trips by Hour')\n",
        "plt.xticks(rotation=0)\n",
        "plt.show()\n",
        "\n",
        "# 가장 많은 이용량을 기록한 시간대 식별\n",
        "most_popular_hour = hourly_counts.idxmax()\n",
        "print('가장 Uber 이용량이 많은 시간대:', most_popular_hour)"
      ]
    },
    {
      "attachments": {},
      "cell_type": "markdown",
      "metadata": {
        "id": "LqfYgFm4hrcC"
      },
      "source": [
        "### 4.3 Uber 수요에 대한 공간적인 시각화\n",
        "\n",
        "- 가장 수요가 많은 지역은 어디일까요?\n",
        "- 시간대/지역별로 수요의 변화를 나타내보고, 시사점을 도출해 봅시다"
      ]
    },
    {
      "attachments": {},
      "cell_type": "markdown",
      "metadata": {
        "id": "5bMdebwIzxsz"
      },
      "source": [
        "folium"
      ]
    },
    {
      "cell_type": "code",
      "execution_count": null,
      "metadata": {
        "id": "ztRbyuvTzer7"
      },
      "outputs": [],
      "source": [
        "!pip install folium"
      ]
    },
    {
      "attachments": {},
      "cell_type": "markdown",
      "metadata": {
        "id": "AAFNZt1wmjev"
      },
      "source": [
        "출력한지도를 vs코드로 올리고 블로그올리면 터져서 출력지움"
      ]
    },
    {
      "cell_type": "code",
      "execution_count": null,
      "metadata": {
        "id": "NRimPxkazi_8"
      },
      "outputs": [],
      "source": [
        "import pandas as pd\n",
        "from collections import Counter\n",
        "import folium\n",
        "from h3 import h3\n",
        "\n",
        "# 데이터 로드\n",
        "df = pd.read_csv('https://github.com/fivethirtyeight/uber-tlc-foil-response/raw/master/uber-trip-data/uber-raw-data-apr14.csv')\n",
        "\n",
        "# 필요한 열 추출: 'Date/Time', 'Lat', 'Lon'\n",
        "df = df[['Date/Time', 'Lat', 'Lon']]\n",
        "\n",
        "# H3 그리드 셀 크기 설정\n",
        "h3_resolution = 9\n",
        "\n",
        "# 시간대/지역별 수요 계산\n",
        "df['H3_Cell'] = df.apply(lambda row: h3.geo_to_h3(row['Lat'], row['Lon'], h3_resolution), axis=1)\n",
        "demand_counts = Counter(df['H3_Cell'])\n",
        "\n",
        "# 수요가 가장 많은 지역 식별\n",
        "most_popular_cell = demand_counts.most_common(1)[0][0]\n",
        "\n",
        "# 지도 생성\n",
        "m = folium.Map(location=[df['Lat'].mean(), df['Lon'].mean()], zoom_start=10)\n",
        "\n",
        "# 시간대/지역별 수요를 지도에 표시\n",
        "for h3_cell, count in demand_counts.items():\n",
        "    lat, lon = h3.h3_to_geo(h3_cell)\n",
        "    folium.CircleMarker(\n",
        "        location=[lat, lon],\n",
        "        radius=count/500,  # 원의 크기 조정\n",
        "        color='red',\n",
        "        fill=True,\n",
        "        fill_color='red'\n",
        "    ).add_to(m)\n",
        "\n",
        "# 수요가 가장 많은 지역을 파란색으로 표시\n",
        "lat, lon = h3.h3_to_geo(most_popular_cell)\n",
        "folium.CircleMarker(\n",
        "    location=[lat, lon],\n",
        "    radius=5,\n",
        "    color='blue',\n",
        "    fill=True,\n",
        "    fill_color='blue'\n",
        ").add_to(m)\n",
        "\n",
        "# 지도 출력\n",
        "m\n"
      ]
    },
    {
      "attachments": {},
      "cell_type": "markdown",
      "metadata": {
        "id": "AWxY0IPvy60V"
      },
      "source": [
        "pydeck #런타임터짐\n"
      ]
    },
    {
      "cell_type": "code",
      "execution_count": null,
      "metadata": {
        "colab": {
          "base_uri": "https://localhost:8080/",
          "height": 17
        },
        "id": "I_23wXMWy2iv",
        "outputId": "84266c33-9f78-47ae-d233-983a82cea675"
      },
      "outputs": [
        {
          "data": {
            "application/javascript": "google.colab.output.setIframeHeight(500, true, {minHeight: 500})",
            "text/plain": [
              "<IPython.core.display.Javascript object>"
            ]
          },
          "metadata": {},
          "output_type": "display_data"
        }
      ],
      "source": [
        "import pandas as pd\n",
        "from collections import Counter\n",
        "import pydeck as pdk\n",
        "from h3 import h3\n",
        "\n",
        "# 데이터 로드\n",
        "df = pd.read_csv('https://github.com/fivethirtyeight/uber-tlc-foil-response/raw/master/uber-trip-data/uber-raw-data-apr14.csv')\n",
        "\n",
        "# 필요한 열 추출: 'Date/Time', 'Lat', 'Lon'\n",
        "df = df[['Date/Time', 'Lat', 'Lon']]\n",
        "\n",
        "# H3 그리드 셀 크기 설정\n",
        "h3_resolution = 9\n",
        "\n",
        "# 시간대/지역별 수요 계산\n",
        "df['H3_Cell'] = df.apply(lambda row: h3.geo_to_h3(row['Lat'], row['Lon'], h3_resolution), axis=1)\n",
        "demand_counts = Counter(df['H3_Cell'])\n",
        "\n",
        "# 수요가 가장 많은 지역 식별\n",
        "most_popular_cell = demand_counts.most_common(1)[0][0]\n",
        "\n",
        "# pydeck을 사용한 공간적 시각화\n",
        "layer = pdk.Layer(\n",
        "    'H3HexagonLayer',\n",
        "    data=df,\n",
        "    get_hexagon='H3_Cell',\n",
        "    get_fill_color='[255, 0, 0, 255]',  # 색상 설정 (빨간색)\n",
        "    auto_highlight=True,\n",
        "    elevation_scale=100,\n",
        "    pickable=True\n",
        ")\n",
        "\n",
        "view_state = pdk.ViewState(\n",
        "    latitude=df['Lat'].mean(),\n",
        "    longitude=df['Lon'].mean(),\n",
        "    zoom=10\n",
        ")\n",
        "\n",
        "r = pdk.Deck(layers=[layer], initial_view_state=view_state)\n",
        "r.show()\n"
      ]
    }
  ],
  "metadata": {
    "accelerator": "GPU",
    "colab": {
      "gpuType": "T4",
      "provenance": []
    },
    "gpuClass": "standard",
    "kernelspec": {
      "display_name": "Python 3",
      "language": "python",
      "name": "python3"
    },
    "language_info": {
      "codemirror_mode": {
        "name": "ipython",
        "version": 3
      },
      "file_extension": ".py",
      "mimetype": "text/x-python",
      "name": "python",
      "nbconvert_exporter": "python",
      "pygments_lexer": "ipython3",
      "version": "3.8.8"
    },
    "orig_nbformat": 4
  },
  "nbformat": 4,
  "nbformat_minor": 0
}
