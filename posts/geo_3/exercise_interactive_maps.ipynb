{
  "metadata": {
    "kernelspec": {
      "display_name": "Python 3",
      "language": "python",
      "name": "python3"
    },
    "language_info": {
      "codemirror_mode": {
        "name": "ipython",
        "version": 3
      },
      "file_extension": ".py",
      "mimetype": "text/x-python",
      "name": "python",
      "nbconvert_exporter": "python",
      "pygments_lexer": "ipython3",
      "version": "3.6.5"
    },
    "colab": {
      "provenance": []
    }
  },
  "nbformat_minor": 0,
  "nbformat": 4,
  "cells": [
    {
      "cell_type": "markdown",
      "source": [
        "**This notebook is an exercise in the [Geospatial Analysis](https://www.kaggle.com/learn/geospatial-analysis) course.  You can reference the tutorial at [this link](https://www.kaggle.com/alexisbcook/interactive-maps).**\n",
        "\n",
        "---\n"
      ],
      "metadata": {
        "id": "98CGrCa-HAdP"
      }
    },
    {
      "cell_type": "markdown",
      "source": [
        "# Introduction\n",
        "\n",
        "You are an urban safety planner in Japan, and you are analyzing which areas of Japan need extra earthquake reinforcement.  Which areas are both high in population density and prone to earthquakes?\n",
        "\n",
        "<center>\n",
        "<img src=\"https://storage.googleapis.com/kaggle-media/learn/images/Kuh9gPj.png\" width=\"450\"><br/>\n",
        "</center>\n",
        "\n",
        "Before you get started, run the code cell below to set everything up."
      ],
      "metadata": {
        "id": "xQ5CISTBHAdV"
      }
    },
    {
      "cell_type": "code",
      "source": [
        "from google.colab import drive\n",
        "drive.mount('/content/drive')"
      ],
      "metadata": {
        "colab": {
          "base_uri": "https://localhost:8080/"
        },
        "id": "ukjMwzebHBin",
        "outputId": "bdf9f87e-1e0c-423b-a850-bb0d7350706d"
      },
      "execution_count": 1,
      "outputs": [
        {
          "output_type": "stream",
          "name": "stdout",
          "text": [
            "Mounted at /content/drive\n"
          ]
        }
      ]
    },
    {
      "cell_type": "code",
      "source": [
        "!pip install geopandas"
      ],
      "metadata": {
        "colab": {
          "base_uri": "https://localhost:8080/"
        },
        "id": "4UEVbn8gJuil",
        "outputId": "9792c330-3a5e-456f-f5b7-698549399bfc"
      },
      "execution_count": 2,
      "outputs": [
        {
          "output_type": "stream",
          "name": "stdout",
          "text": [
            "Looking in indexes: https://pypi.org/simple, https://us-python.pkg.dev/colab-wheels/public/simple/\n",
            "Collecting geopandas\n",
            "  Downloading geopandas-0.13.0-py3-none-any.whl (1.1 MB)\n",
            "\u001b[2K     \u001b[90m━━━━━━━━━━━━━━━━━━━━━━━━━━━━━━━━━━━━━━━━\u001b[0m \u001b[32m1.1/1.1 MB\u001b[0m \u001b[31m23.3 MB/s\u001b[0m eta \u001b[36m0:00:00\u001b[0m\n",
            "\u001b[?25hCollecting fiona>=1.8.19 (from geopandas)\n",
            "  Downloading Fiona-1.9.3-cp310-cp310-manylinux_2_17_x86_64.manylinux2014_x86_64.whl (16.0 MB)\n",
            "\u001b[2K     \u001b[90m━━━━━━━━━━━━━━━━━━━━━━━━━━━━━━━━━━━━━━━━\u001b[0m \u001b[32m16.0/16.0 MB\u001b[0m \u001b[31m54.6 MB/s\u001b[0m eta \u001b[36m0:00:00\u001b[0m\n",
            "\u001b[?25hRequirement already satisfied: packaging in /usr/local/lib/python3.10/dist-packages (from geopandas) (23.1)\n",
            "Requirement already satisfied: pandas>=1.1.0 in /usr/local/lib/python3.10/dist-packages (from geopandas) (1.5.3)\n",
            "Collecting pyproj>=3.0.1 (from geopandas)\n",
            "  Downloading pyproj-3.5.0-cp310-cp310-manylinux_2_17_x86_64.manylinux2014_x86_64.whl (7.7 MB)\n",
            "\u001b[2K     \u001b[90m━━━━━━━━━━━━━━━━━━━━━━━━━━━━━━━━━━━━━━━━\u001b[0m \u001b[32m7.7/7.7 MB\u001b[0m \u001b[31m71.4 MB/s\u001b[0m eta \u001b[36m0:00:00\u001b[0m\n",
            "\u001b[?25hRequirement already satisfied: shapely>=1.7.1 in /usr/local/lib/python3.10/dist-packages (from geopandas) (2.0.1)\n",
            "Requirement already satisfied: attrs>=19.2.0 in /usr/local/lib/python3.10/dist-packages (from fiona>=1.8.19->geopandas) (23.1.0)\n",
            "Requirement already satisfied: certifi in /usr/local/lib/python3.10/dist-packages (from fiona>=1.8.19->geopandas) (2022.12.7)\n",
            "Requirement already satisfied: click~=8.0 in /usr/local/lib/python3.10/dist-packages (from fiona>=1.8.19->geopandas) (8.1.3)\n",
            "Collecting click-plugins>=1.0 (from fiona>=1.8.19->geopandas)\n",
            "  Downloading click_plugins-1.1.1-py2.py3-none-any.whl (7.5 kB)\n",
            "Collecting cligj>=0.5 (from fiona>=1.8.19->geopandas)\n",
            "  Downloading cligj-0.7.2-py3-none-any.whl (7.1 kB)\n",
            "Collecting munch>=2.3.2 (from fiona>=1.8.19->geopandas)\n",
            "  Downloading munch-3.0.0-py2.py3-none-any.whl (10 kB)\n",
            "Requirement already satisfied: python-dateutil>=2.8.1 in /usr/local/lib/python3.10/dist-packages (from pandas>=1.1.0->geopandas) (2.8.2)\n",
            "Requirement already satisfied: pytz>=2020.1 in /usr/local/lib/python3.10/dist-packages (from pandas>=1.1.0->geopandas) (2022.7.1)\n",
            "Requirement already satisfied: numpy>=1.21.0 in /usr/local/lib/python3.10/dist-packages (from pandas>=1.1.0->geopandas) (1.22.4)\n",
            "Requirement already satisfied: six in /usr/local/lib/python3.10/dist-packages (from munch>=2.3.2->fiona>=1.8.19->geopandas) (1.16.0)\n",
            "Installing collected packages: pyproj, munch, cligj, click-plugins, fiona, geopandas\n",
            "Successfully installed click-plugins-1.1.1 cligj-0.7.2 fiona-1.9.3 geopandas-0.13.0 munch-3.0.0 pyproj-3.5.0\n"
          ]
        }
      ]
    },
    {
      "cell_type": "code",
      "source": [
        "import pandas as pd\n",
        "import geopandas as gpd\n",
        "\n",
        "import folium\n",
        "from folium import Choropleth\n",
        "from folium.plugins import HeatMap\n"
      ],
      "metadata": {
        "id": "pS8Usk2PHAdW"
      },
      "execution_count": 4,
      "outputs": []
    },
    {
      "cell_type": "code",
      "source": [
        "from learntools.core import binder\n",
        "binder.bind(globals())\n",
        "from learntools.geospatial.ex3 import *"
      ],
      "metadata": {
        "id": "zk-yd87yJ3F7"
      },
      "execution_count": null,
      "outputs": []
    },
    {
      "cell_type": "code",
      "source": [],
      "metadata": {
        "id": "Q6UQ7sTGJ3KZ"
      },
      "execution_count": null,
      "outputs": []
    },
    {
      "cell_type": "code",
      "source": [],
      "metadata": {
        "id": "m_guIq8AJuHd"
      },
      "execution_count": null,
      "outputs": []
    },
    {
      "cell_type": "markdown",
      "source": [
        "We define a function `embed_map()` for displaying interactive maps. It accepts two arguments: the variable containing the map, and the name of the HTML file where the map will be saved.\n",
        "\n",
        "This function ensures that the maps are visible [in all web browsers](https://github.com/python-visualization/folium/issues/812)."
      ],
      "metadata": {
        "id": "5Ypi60fuHAdZ"
      }
    },
    {
      "cell_type": "code",
      "source": [
        "def embed_map(m, file_name):\n",
        "    from IPython.display import IFrame\n",
        "    m.save(file_name)\n",
        "    return IFrame(file_name, width='100%', height='500px')"
      ],
      "metadata": {
        "id": "5l57ULD4HAda"
      },
      "execution_count": 5,
      "outputs": []
    },
    {
      "cell_type": "markdown",
      "source": [
        "# Exercises\n",
        "\n",
        "### 1) Do earthquakes coincide with plate boundaries?\n",
        "\n",
        "Run the code cell below to create a DataFrame `plate_boundaries` that shows global plate boundaries.  The \"coordinates\" column is a list of (latitude, longitude) locations along the boundaries."
      ],
      "metadata": {
        "id": "3EiftVuYHAdb"
      }
    },
    {
      "cell_type": "code",
      "source": [
        "#plate_boundaries = gpd.read_file(\"../input/geospatial-learn-course-data/Plate_Boundaries/Plate_Boundaries/Plate_Boundaries.shp\")\n",
        "plate_boundaries = gpd.read_file(\"/content/drive/MyDrive/data_mining/data/Plate_Boundaries/Plate_Boundaries/Plate_Boundaries.shp\")\n",
        "plate_boundaries['coordinates'] = plate_boundaries.apply(lambda x: [(b,a) for (a,b) in list(x.geometry.coords)], axis='columns')\n",
        "plate_boundaries.drop('geometry', axis=1, inplace=True)\n",
        "\n",
        "plate_boundaries.head()"
      ],
      "metadata": {
        "colab": {
          "base_uri": "https://localhost:8080/",
          "height": 206
        },
        "id": "Iotj1U8iHAdc",
        "outputId": "c7c173eb-246f-4e36-a03e-173ccf6f6471"
      },
      "execution_count": 7,
      "outputs": [
        {
          "output_type": "execute_result",
          "data": {
            "text/plain": [
              "  HAZ_PLATES                                         HAZ_PLAT_1  HAZ_PLAT_2  \\\n",
              "0     TRENCH                              SERAM TROUGH (ACTIVE)        6722   \n",
              "1     TRENCH                                       WETAR THRUST        6722   \n",
              "2     TRENCH  TRENCH WEST OF LUZON (MANILA TRENCH) NORTHERN ...        6621   \n",
              "3     TRENCH                                       BONIN TRENCH        9821   \n",
              "4     TRENCH                                  NEW GUINEA TRENCH        8001   \n",
              "\n",
              "   Shape_Leng                                        coordinates  \n",
              "0    5.843467  [(-5.444200361999947, 133.6808931800001), (-5....  \n",
              "1    1.829013  [(-7.760600482999962, 125.47879802900002), (-7...  \n",
              "2    6.743604  [(19.817899819000047, 120.09999798800004), (19...  \n",
              "3    8.329381  [(26.175899215000072, 143.20620700100005), (26...  \n",
              "4   11.998145  [(0.41880004000006466, 132.8273013480001), (0....  "
            ],
            "text/html": [
              "\n",
              "  <div id=\"df-85449ea6-1643-4d4b-9cff-9e79efdb0c5b\">\n",
              "    <div class=\"colab-df-container\">\n",
              "      <div>\n",
              "<style scoped>\n",
              "    .dataframe tbody tr th:only-of-type {\n",
              "        vertical-align: middle;\n",
              "    }\n",
              "\n",
              "    .dataframe tbody tr th {\n",
              "        vertical-align: top;\n",
              "    }\n",
              "\n",
              "    .dataframe thead th {\n",
              "        text-align: right;\n",
              "    }\n",
              "</style>\n",
              "<table border=\"1\" class=\"dataframe\">\n",
              "  <thead>\n",
              "    <tr style=\"text-align: right;\">\n",
              "      <th></th>\n",
              "      <th>HAZ_PLATES</th>\n",
              "      <th>HAZ_PLAT_1</th>\n",
              "      <th>HAZ_PLAT_2</th>\n",
              "      <th>Shape_Leng</th>\n",
              "      <th>coordinates</th>\n",
              "    </tr>\n",
              "  </thead>\n",
              "  <tbody>\n",
              "    <tr>\n",
              "      <th>0</th>\n",
              "      <td>TRENCH</td>\n",
              "      <td>SERAM TROUGH (ACTIVE)</td>\n",
              "      <td>6722</td>\n",
              "      <td>5.843467</td>\n",
              "      <td>[(-5.444200361999947, 133.6808931800001), (-5....</td>\n",
              "    </tr>\n",
              "    <tr>\n",
              "      <th>1</th>\n",
              "      <td>TRENCH</td>\n",
              "      <td>WETAR THRUST</td>\n",
              "      <td>6722</td>\n",
              "      <td>1.829013</td>\n",
              "      <td>[(-7.760600482999962, 125.47879802900002), (-7...</td>\n",
              "    </tr>\n",
              "    <tr>\n",
              "      <th>2</th>\n",
              "      <td>TRENCH</td>\n",
              "      <td>TRENCH WEST OF LUZON (MANILA TRENCH) NORTHERN ...</td>\n",
              "      <td>6621</td>\n",
              "      <td>6.743604</td>\n",
              "      <td>[(19.817899819000047, 120.09999798800004), (19...</td>\n",
              "    </tr>\n",
              "    <tr>\n",
              "      <th>3</th>\n",
              "      <td>TRENCH</td>\n",
              "      <td>BONIN TRENCH</td>\n",
              "      <td>9821</td>\n",
              "      <td>8.329381</td>\n",
              "      <td>[(26.175899215000072, 143.20620700100005), (26...</td>\n",
              "    </tr>\n",
              "    <tr>\n",
              "      <th>4</th>\n",
              "      <td>TRENCH</td>\n",
              "      <td>NEW GUINEA TRENCH</td>\n",
              "      <td>8001</td>\n",
              "      <td>11.998145</td>\n",
              "      <td>[(0.41880004000006466, 132.8273013480001), (0....</td>\n",
              "    </tr>\n",
              "  </tbody>\n",
              "</table>\n",
              "</div>\n",
              "      <button class=\"colab-df-convert\" onclick=\"convertToInteractive('df-85449ea6-1643-4d4b-9cff-9e79efdb0c5b')\"\n",
              "              title=\"Convert this dataframe to an interactive table.\"\n",
              "              style=\"display:none;\">\n",
              "        \n",
              "  <svg xmlns=\"http://www.w3.org/2000/svg\" height=\"24px\"viewBox=\"0 0 24 24\"\n",
              "       width=\"24px\">\n",
              "    <path d=\"M0 0h24v24H0V0z\" fill=\"none\"/>\n",
              "    <path d=\"M18.56 5.44l.94 2.06.94-2.06 2.06-.94-2.06-.94-.94-2.06-.94 2.06-2.06.94zm-11 1L8.5 8.5l.94-2.06 2.06-.94-2.06-.94L8.5 2.5l-.94 2.06-2.06.94zm10 10l.94 2.06.94-2.06 2.06-.94-2.06-.94-.94-2.06-.94 2.06-2.06.94z\"/><path d=\"M17.41 7.96l-1.37-1.37c-.4-.4-.92-.59-1.43-.59-.52 0-1.04.2-1.43.59L10.3 9.45l-7.72 7.72c-.78.78-.78 2.05 0 2.83L4 21.41c.39.39.9.59 1.41.59.51 0 1.02-.2 1.41-.59l7.78-7.78 2.81-2.81c.8-.78.8-2.07 0-2.86zM5.41 20L4 18.59l7.72-7.72 1.47 1.35L5.41 20z\"/>\n",
              "  </svg>\n",
              "      </button>\n",
              "      \n",
              "  <style>\n",
              "    .colab-df-container {\n",
              "      display:flex;\n",
              "      flex-wrap:wrap;\n",
              "      gap: 12px;\n",
              "    }\n",
              "\n",
              "    .colab-df-convert {\n",
              "      background-color: #E8F0FE;\n",
              "      border: none;\n",
              "      border-radius: 50%;\n",
              "      cursor: pointer;\n",
              "      display: none;\n",
              "      fill: #1967D2;\n",
              "      height: 32px;\n",
              "      padding: 0 0 0 0;\n",
              "      width: 32px;\n",
              "    }\n",
              "\n",
              "    .colab-df-convert:hover {\n",
              "      background-color: #E2EBFA;\n",
              "      box-shadow: 0px 1px 2px rgba(60, 64, 67, 0.3), 0px 1px 3px 1px rgba(60, 64, 67, 0.15);\n",
              "      fill: #174EA6;\n",
              "    }\n",
              "\n",
              "    [theme=dark] .colab-df-convert {\n",
              "      background-color: #3B4455;\n",
              "      fill: #D2E3FC;\n",
              "    }\n",
              "\n",
              "    [theme=dark] .colab-df-convert:hover {\n",
              "      background-color: #434B5C;\n",
              "      box-shadow: 0px 1px 3px 1px rgba(0, 0, 0, 0.15);\n",
              "      filter: drop-shadow(0px 1px 2px rgba(0, 0, 0, 0.3));\n",
              "      fill: #FFFFFF;\n",
              "    }\n",
              "  </style>\n",
              "\n",
              "      <script>\n",
              "        const buttonEl =\n",
              "          document.querySelector('#df-85449ea6-1643-4d4b-9cff-9e79efdb0c5b button.colab-df-convert');\n",
              "        buttonEl.style.display =\n",
              "          google.colab.kernel.accessAllowed ? 'block' : 'none';\n",
              "\n",
              "        async function convertToInteractive(key) {\n",
              "          const element = document.querySelector('#df-85449ea6-1643-4d4b-9cff-9e79efdb0c5b');\n",
              "          const dataTable =\n",
              "            await google.colab.kernel.invokeFunction('convertToInteractive',\n",
              "                                                     [key], {});\n",
              "          if (!dataTable) return;\n",
              "\n",
              "          const docLinkHtml = 'Like what you see? Visit the ' +\n",
              "            '<a target=\"_blank\" href=https://colab.research.google.com/notebooks/data_table.ipynb>data table notebook</a>'\n",
              "            + ' to learn more about interactive tables.';\n",
              "          element.innerHTML = '';\n",
              "          dataTable['output_type'] = 'display_data';\n",
              "          await google.colab.output.renderOutput(dataTable, element);\n",
              "          const docLink = document.createElement('div');\n",
              "          docLink.innerHTML = docLinkHtml;\n",
              "          element.appendChild(docLink);\n",
              "        }\n",
              "      </script>\n",
              "    </div>\n",
              "  </div>\n",
              "  "
            ]
          },
          "metadata": {},
          "execution_count": 7
        }
      ]
    },
    {
      "cell_type": "markdown",
      "source": [
        "Next, run the code cell below without changes to load the historical earthquake data into a DataFrame `earthquakes`."
      ],
      "metadata": {
        "id": "x8Iuz1kmHAdd"
      }
    },
    {
      "cell_type": "code",
      "source": [
        "# Load the data and print the first 5 rows\n",
        "#earthquakes = pd.read_csv(\"../input/geospatial-learn-course-data/earthquakes1970-2014.csv\", parse_dates=[\"DateTime\"])\n",
        "earthquakes = pd.read_csv(\"/content/drive/MyDrive/data_mining/data/earthquakes1970-2014.csv\", parse_dates=[\"DateTime\"])\n",
        "earthquakes.head()"
      ],
      "metadata": {
        "colab": {
          "base_uri": "https://localhost:8080/",
          "height": 206
        },
        "id": "y3AMvgIFHAdd",
        "outputId": "f90f2bcb-6b5f-4961-a213-fcb721c6d61d"
      },
      "execution_count": 11,
      "outputs": [
        {
          "output_type": "execute_result",
          "data": {
            "text/plain": [
              "                 DateTime  Latitude  Longitude  Depth  Magnitude MagType  \\\n",
              "0 1970-01-04 17:00:40.200    24.139    102.503   31.0        7.5      Ms   \n",
              "1 1970-01-06 05:35:51.800    -9.628    151.458    8.0        6.2      Ms   \n",
              "2 1970-01-08 17:12:39.100   -34.741    178.568  179.0        6.1      Mb   \n",
              "3 1970-01-10 12:07:08.600     6.825    126.737   73.0        6.1      Mb   \n",
              "4 1970-01-16 08:05:39.000    60.280   -152.660   85.0        6.0      ML   \n",
              "\n",
              "   NbStations  Gap  Distance  RMS Source       EventID  \n",
              "0        90.0  NaN       NaN  0.0    NEI  1.970010e+09  \n",
              "1        85.0  NaN       NaN  0.0    NEI  1.970011e+09  \n",
              "2        59.0  NaN       NaN  0.0    NEI  1.970011e+09  \n",
              "3        91.0  NaN       NaN  0.0    NEI  1.970011e+09  \n",
              "4         0.0  NaN       NaN  NaN     AK           NaN  "
            ],
            "text/html": [
              "\n",
              "  <div id=\"df-4987b9da-722e-4920-adb8-331b447549dd\">\n",
              "    <div class=\"colab-df-container\">\n",
              "      <div>\n",
              "<style scoped>\n",
              "    .dataframe tbody tr th:only-of-type {\n",
              "        vertical-align: middle;\n",
              "    }\n",
              "\n",
              "    .dataframe tbody tr th {\n",
              "        vertical-align: top;\n",
              "    }\n",
              "\n",
              "    .dataframe thead th {\n",
              "        text-align: right;\n",
              "    }\n",
              "</style>\n",
              "<table border=\"1\" class=\"dataframe\">\n",
              "  <thead>\n",
              "    <tr style=\"text-align: right;\">\n",
              "      <th></th>\n",
              "      <th>DateTime</th>\n",
              "      <th>Latitude</th>\n",
              "      <th>Longitude</th>\n",
              "      <th>Depth</th>\n",
              "      <th>Magnitude</th>\n",
              "      <th>MagType</th>\n",
              "      <th>NbStations</th>\n",
              "      <th>Gap</th>\n",
              "      <th>Distance</th>\n",
              "      <th>RMS</th>\n",
              "      <th>Source</th>\n",
              "      <th>EventID</th>\n",
              "    </tr>\n",
              "  </thead>\n",
              "  <tbody>\n",
              "    <tr>\n",
              "      <th>0</th>\n",
              "      <td>1970-01-04 17:00:40.200</td>\n",
              "      <td>24.139</td>\n",
              "      <td>102.503</td>\n",
              "      <td>31.0</td>\n",
              "      <td>7.5</td>\n",
              "      <td>Ms</td>\n",
              "      <td>90.0</td>\n",
              "      <td>NaN</td>\n",
              "      <td>NaN</td>\n",
              "      <td>0.0</td>\n",
              "      <td>NEI</td>\n",
              "      <td>1.970010e+09</td>\n",
              "    </tr>\n",
              "    <tr>\n",
              "      <th>1</th>\n",
              "      <td>1970-01-06 05:35:51.800</td>\n",
              "      <td>-9.628</td>\n",
              "      <td>151.458</td>\n",
              "      <td>8.0</td>\n",
              "      <td>6.2</td>\n",
              "      <td>Ms</td>\n",
              "      <td>85.0</td>\n",
              "      <td>NaN</td>\n",
              "      <td>NaN</td>\n",
              "      <td>0.0</td>\n",
              "      <td>NEI</td>\n",
              "      <td>1.970011e+09</td>\n",
              "    </tr>\n",
              "    <tr>\n",
              "      <th>2</th>\n",
              "      <td>1970-01-08 17:12:39.100</td>\n",
              "      <td>-34.741</td>\n",
              "      <td>178.568</td>\n",
              "      <td>179.0</td>\n",
              "      <td>6.1</td>\n",
              "      <td>Mb</td>\n",
              "      <td>59.0</td>\n",
              "      <td>NaN</td>\n",
              "      <td>NaN</td>\n",
              "      <td>0.0</td>\n",
              "      <td>NEI</td>\n",
              "      <td>1.970011e+09</td>\n",
              "    </tr>\n",
              "    <tr>\n",
              "      <th>3</th>\n",
              "      <td>1970-01-10 12:07:08.600</td>\n",
              "      <td>6.825</td>\n",
              "      <td>126.737</td>\n",
              "      <td>73.0</td>\n",
              "      <td>6.1</td>\n",
              "      <td>Mb</td>\n",
              "      <td>91.0</td>\n",
              "      <td>NaN</td>\n",
              "      <td>NaN</td>\n",
              "      <td>0.0</td>\n",
              "      <td>NEI</td>\n",
              "      <td>1.970011e+09</td>\n",
              "    </tr>\n",
              "    <tr>\n",
              "      <th>4</th>\n",
              "      <td>1970-01-16 08:05:39.000</td>\n",
              "      <td>60.280</td>\n",
              "      <td>-152.660</td>\n",
              "      <td>85.0</td>\n",
              "      <td>6.0</td>\n",
              "      <td>ML</td>\n",
              "      <td>0.0</td>\n",
              "      <td>NaN</td>\n",
              "      <td>NaN</td>\n",
              "      <td>NaN</td>\n",
              "      <td>AK</td>\n",
              "      <td>NaN</td>\n",
              "    </tr>\n",
              "  </tbody>\n",
              "</table>\n",
              "</div>\n",
              "      <button class=\"colab-df-convert\" onclick=\"convertToInteractive('df-4987b9da-722e-4920-adb8-331b447549dd')\"\n",
              "              title=\"Convert this dataframe to an interactive table.\"\n",
              "              style=\"display:none;\">\n",
              "        \n",
              "  <svg xmlns=\"http://www.w3.org/2000/svg\" height=\"24px\"viewBox=\"0 0 24 24\"\n",
              "       width=\"24px\">\n",
              "    <path d=\"M0 0h24v24H0V0z\" fill=\"none\"/>\n",
              "    <path d=\"M18.56 5.44l.94 2.06.94-2.06 2.06-.94-2.06-.94-.94-2.06-.94 2.06-2.06.94zm-11 1L8.5 8.5l.94-2.06 2.06-.94-2.06-.94L8.5 2.5l-.94 2.06-2.06.94zm10 10l.94 2.06.94-2.06 2.06-.94-2.06-.94-.94-2.06-.94 2.06-2.06.94z\"/><path d=\"M17.41 7.96l-1.37-1.37c-.4-.4-.92-.59-1.43-.59-.52 0-1.04.2-1.43.59L10.3 9.45l-7.72 7.72c-.78.78-.78 2.05 0 2.83L4 21.41c.39.39.9.59 1.41.59.51 0 1.02-.2 1.41-.59l7.78-7.78 2.81-2.81c.8-.78.8-2.07 0-2.86zM5.41 20L4 18.59l7.72-7.72 1.47 1.35L5.41 20z\"/>\n",
              "  </svg>\n",
              "      </button>\n",
              "      \n",
              "  <style>\n",
              "    .colab-df-container {\n",
              "      display:flex;\n",
              "      flex-wrap:wrap;\n",
              "      gap: 12px;\n",
              "    }\n",
              "\n",
              "    .colab-df-convert {\n",
              "      background-color: #E8F0FE;\n",
              "      border: none;\n",
              "      border-radius: 50%;\n",
              "      cursor: pointer;\n",
              "      display: none;\n",
              "      fill: #1967D2;\n",
              "      height: 32px;\n",
              "      padding: 0 0 0 0;\n",
              "      width: 32px;\n",
              "    }\n",
              "\n",
              "    .colab-df-convert:hover {\n",
              "      background-color: #E2EBFA;\n",
              "      box-shadow: 0px 1px 2px rgba(60, 64, 67, 0.3), 0px 1px 3px 1px rgba(60, 64, 67, 0.15);\n",
              "      fill: #174EA6;\n",
              "    }\n",
              "\n",
              "    [theme=dark] .colab-df-convert {\n",
              "      background-color: #3B4455;\n",
              "      fill: #D2E3FC;\n",
              "    }\n",
              "\n",
              "    [theme=dark] .colab-df-convert:hover {\n",
              "      background-color: #434B5C;\n",
              "      box-shadow: 0px 1px 3px 1px rgba(0, 0, 0, 0.15);\n",
              "      filter: drop-shadow(0px 1px 2px rgba(0, 0, 0, 0.3));\n",
              "      fill: #FFFFFF;\n",
              "    }\n",
              "  </style>\n",
              "\n",
              "      <script>\n",
              "        const buttonEl =\n",
              "          document.querySelector('#df-4987b9da-722e-4920-adb8-331b447549dd button.colab-df-convert');\n",
              "        buttonEl.style.display =\n",
              "          google.colab.kernel.accessAllowed ? 'block' : 'none';\n",
              "\n",
              "        async function convertToInteractive(key) {\n",
              "          const element = document.querySelector('#df-4987b9da-722e-4920-adb8-331b447549dd');\n",
              "          const dataTable =\n",
              "            await google.colab.kernel.invokeFunction('convertToInteractive',\n",
              "                                                     [key], {});\n",
              "          if (!dataTable) return;\n",
              "\n",
              "          const docLinkHtml = 'Like what you see? Visit the ' +\n",
              "            '<a target=\"_blank\" href=https://colab.research.google.com/notebooks/data_table.ipynb>data table notebook</a>'\n",
              "            + ' to learn more about interactive tables.';\n",
              "          element.innerHTML = '';\n",
              "          dataTable['output_type'] = 'display_data';\n",
              "          await google.colab.output.renderOutput(dataTable, element);\n",
              "          const docLink = document.createElement('div');\n",
              "          docLink.innerHTML = docLinkHtml;\n",
              "          element.appendChild(docLink);\n",
              "        }\n",
              "      </script>\n",
              "    </div>\n",
              "  </div>\n",
              "  "
            ]
          },
          "metadata": {},
          "execution_count": 11
        }
      ]
    },
    {
      "cell_type": "markdown",
      "source": [
        "The code cell below visualizes the plate boundaries on a map.  Use all of the earthquake data to add a heatmap to the same map, to determine whether earthquakes coincide with plate boundaries.  "
      ],
      "metadata": {
        "id": "Cx4w7SWKHAde"
      }
    },
    {
      "cell_type": "code",
      "source": [
        "# Create a base map with plate boundaries\n",
        "m_1 = folium.Map(location=[35,136], tiles='cartodbpositron', zoom_start=5)\n",
        "for i in range(len(plate_boundaries)):\n",
        "    folium.PolyLine(locations=plate_boundaries.coordinates.iloc[i], weight=2, color='black').add_to(m_1)\n",
        "\n",
        "# Your code here: Add a heatmap to the map\n",
        "heat_data = [[row['Latitude'], row['Longitude']] for index, row in earthquakes.iterrows()]\n",
        "HeatMap(heat_data).add_to(m_1)\n",
        "\n",
        "# Uncomment to see a hint\n",
        "#q_1.a.hint()\n",
        "\n",
        "# Show the map\n",
        "embed_map(m_1, 'q_1.html')"
      ],
      "metadata": {
        "colab": {
          "base_uri": "https://localhost:8080/",
          "height": 520
        },
        "id": "CjEWWLjUHAdf",
        "outputId": "8bebf134-9dec-4e94-fd8b-84e72869e475"
      },
      "execution_count": 14,
      "outputs": [
        {
          "output_type": "execute_result",
          "data": {
            "text/plain": [
              "<IPython.lib.display.IFrame at 0x7f7176f4a680>"
            ],
            "text/html": [
              "\n",
              "        <iframe\n",
              "            width=\"100%\"\n",
              "            height=\"500px\"\n",
              "            src=\"q_1.html\"\n",
              "            frameborder=\"0\"\n",
              "            allowfullscreen\n",
              "            \n",
              "        ></iframe>\n",
              "        "
            ]
          },
          "metadata": {},
          "execution_count": 14
        }
      ]
    },
    {
      "cell_type": "code",
      "source": [
        "# Get credit for your work after you have created a map\n",
        "#q_1.a.check()\n",
        "\n",
        "# Uncomment to see our solution (your code may look different!)\n",
        "#q_1.a.solution()"
      ],
      "metadata": {
        "id": "C_gG3J5BHAdg"
      },
      "execution_count": null,
      "outputs": []
    },
    {
      "cell_type": "markdown",
      "source": [
        "So, given the map above, do earthquakes coincide with plate boundaries?"
      ],
      "metadata": {
        "id": "wSkUhJZbHAdg"
      }
    },
    {
      "cell_type": "code",
      "source": [
        "# View the solution (Run this code cell to receive credit!)\n",
        "q_1.b.solution()"
      ],
      "metadata": {
        "id": "uBVm1zn9HAdh"
      },
      "execution_count": null,
      "outputs": []
    },
    {
      "cell_type": "markdown",
      "source": [
        "### 2) Is there a relationship between earthquake depth and proximity to a plate boundary in Japan?\n",
        "\n",
        "You recently read that the depth of earthquakes tells us [important information](https://www.usgs.gov/faqs/what-depth-do-earthquakes-occur-what-significance-depth?qt-news_science_products=0#qt-news_science_products) about the structure of the earth.  You're interested to see if there are any intereresting global patterns, and you'd also like to understand how depth varies in Japan.\n",
        "\n"
      ],
      "metadata": {
        "id": "dQjbmUXEHAdi"
      }
    },
    {
      "cell_type": "code",
      "source": [
        "# Create a base map with plate boundaries\n",
        "m_2 = folium.Map(location=[35,136], tiles='cartodbpositron', zoom_start=5)\n",
        "for i in range(len(plate_boundaries)):\n",
        "    folium.PolyLine(locations=plate_boundaries.coordinates.iloc[i], weight=2, color='black').add_to(m_2)\n",
        "    \n",
        "# Your code here: Add a map to visualize earthquake depth\n",
        "for idx, earthquake in earthquakes.iterrows():\n",
        "    depth = earthquake['Depth']\n",
        "    location = [earthquake['Latitude'], earthquake['Longitude']]\n",
        "    if depth < 50:\n",
        "        folium.CircleMarker(location=location, radius=5, color='green', fill=True, fill_color='green', fill_opacity=0.7).add_to(m_2)\n",
        "    elif depth < 100:\n",
        "        folium.CircleMarker(location=location, radius=5, color='orange', fill=True, fill_color='orange', fill_opacity=0.7).add_to(m_2)\n",
        "    else:\n",
        "        folium.CircleMarker(location=location, radius=5, color='red', fill=True, fill_color='red', fill_opacity=0.7).add_to(m_2)\n",
        "\n",
        "# Uncomment to see a hint\n",
        "#q_2.a.hint()\n",
        "\n",
        "# View the map\n",
        "embed_map(m_2, 'q_2.html')"
      ],
      "metadata": {
        "colab": {
          "base_uri": "https://localhost:8080/",
          "height": 520
        },
        "id": "XN0c0YnEHAdi",
        "outputId": "356c4ffb-5d02-424b-949b-a683f8a88cd0"
      },
      "execution_count": 16,
      "outputs": [
        {
          "output_type": "execute_result",
          "data": {
            "text/plain": [
              "<IPython.lib.display.IFrame at 0x7f7175fab910>"
            ],
            "text/html": [
              "\n",
              "        <iframe\n",
              "            width=\"100%\"\n",
              "            height=\"500px\"\n",
              "            src=\"q_2.html\"\n",
              "            frameborder=\"0\"\n",
              "            allowfullscreen\n",
              "            \n",
              "        ></iframe>\n",
              "        "
            ]
          },
          "metadata": {},
          "execution_count": 16
        }
      ]
    },
    {
      "cell_type": "code",
      "source": [
        "# Get credit for your work after you have created a map\n",
        "q_2.a.check()\n",
        "\n",
        "# Uncomment to see our solution (your code may look different!)\n",
        "#q_2.a.solution()"
      ],
      "metadata": {
        "id": "wDNaY0B6HAdj"
      },
      "execution_count": null,
      "outputs": []
    },
    {
      "cell_type": "markdown",
      "source": [
        "Can you detect a relationship between proximity to a plate boundary and earthquake depth?  Does this pattern hold globally?  In Japan?"
      ],
      "metadata": {
        "id": "qXwHgYs_HAdj"
      }
    },
    {
      "cell_type": "code",
      "source": [
        "# View the solution (Run this code cell to receive credit!)\n",
        "q_2.b.solution()"
      ],
      "metadata": {
        "id": "FWNR1jT7HAdk"
      },
      "execution_count": null,
      "outputs": []
    },
    {
      "cell_type": "markdown",
      "source": [
        "### 3) Which prefectures have high population density?\n",
        "\n",
        "Run the next code cell (without changes) to create a GeoDataFrame `prefectures` that contains the geographical boundaries of Japanese prefectures."
      ],
      "metadata": {
        "id": "RwKRSRqyHAdl"
      }
    },
    {
      "cell_type": "code",
      "source": [
        "# GeoDataFrame with prefecture boundaries\n",
        "#prefectures = gpd.read_file(\"../input/geospatial-learn-course-data/japan-prefecture-boundaries/japan-prefecture-boundaries/japan-prefecture-boundaries.shp\")\n",
        "prefectures = gpd.read_file(\"/content/drive/MyDrive/data_mining/japan-prefecture-boundaries/japan-prefecture-boundaries/japan-prefecture-boundaries.shp\")\n",
        "prefectures.set_index('prefecture', inplace=True)\n",
        "prefectures.head()"
      ],
      "metadata": {
        "colab": {
          "base_uri": "https://localhost:8080/",
          "height": 237
        },
        "id": "jCwqXwnaHAdl",
        "outputId": "b81678f6-1483-4e0d-ba55-c1814750e917"
      },
      "execution_count": 17,
      "outputs": [
        {
          "output_type": "execute_result",
          "data": {
            "text/plain": [
              "                                                     geometry\n",
              "prefecture                                                   \n",
              "Aichi       MULTIPOLYGON (((137.09523 34.65330, 137.09546 ...\n",
              "Akita       MULTIPOLYGON (((139.55725 39.20330, 139.55765 ...\n",
              "Aomori      MULTIPOLYGON (((141.39860 40.92472, 141.39806 ...\n",
              "Chiba       MULTIPOLYGON (((139.82488 34.98967, 139.82434 ...\n",
              "Ehime       MULTIPOLYGON (((132.55859 32.91224, 132.55904 ..."
            ],
            "text/html": [
              "\n",
              "  <div id=\"df-09e6026e-65ec-409e-8e8e-309d1fc9cc0c\">\n",
              "    <div class=\"colab-df-container\">\n",
              "      <div>\n",
              "<style scoped>\n",
              "    .dataframe tbody tr th:only-of-type {\n",
              "        vertical-align: middle;\n",
              "    }\n",
              "\n",
              "    .dataframe tbody tr th {\n",
              "        vertical-align: top;\n",
              "    }\n",
              "\n",
              "    .dataframe thead th {\n",
              "        text-align: right;\n",
              "    }\n",
              "</style>\n",
              "<table border=\"1\" class=\"dataframe\">\n",
              "  <thead>\n",
              "    <tr style=\"text-align: right;\">\n",
              "      <th></th>\n",
              "      <th>geometry</th>\n",
              "    </tr>\n",
              "    <tr>\n",
              "      <th>prefecture</th>\n",
              "      <th></th>\n",
              "    </tr>\n",
              "  </thead>\n",
              "  <tbody>\n",
              "    <tr>\n",
              "      <th>Aichi</th>\n",
              "      <td>MULTIPOLYGON (((137.09523 34.65330, 137.09546 ...</td>\n",
              "    </tr>\n",
              "    <tr>\n",
              "      <th>Akita</th>\n",
              "      <td>MULTIPOLYGON (((139.55725 39.20330, 139.55765 ...</td>\n",
              "    </tr>\n",
              "    <tr>\n",
              "      <th>Aomori</th>\n",
              "      <td>MULTIPOLYGON (((141.39860 40.92472, 141.39806 ...</td>\n",
              "    </tr>\n",
              "    <tr>\n",
              "      <th>Chiba</th>\n",
              "      <td>MULTIPOLYGON (((139.82488 34.98967, 139.82434 ...</td>\n",
              "    </tr>\n",
              "    <tr>\n",
              "      <th>Ehime</th>\n",
              "      <td>MULTIPOLYGON (((132.55859 32.91224, 132.55904 ...</td>\n",
              "    </tr>\n",
              "  </tbody>\n",
              "</table>\n",
              "</div>\n",
              "      <button class=\"colab-df-convert\" onclick=\"convertToInteractive('df-09e6026e-65ec-409e-8e8e-309d1fc9cc0c')\"\n",
              "              title=\"Convert this dataframe to an interactive table.\"\n",
              "              style=\"display:none;\">\n",
              "        \n",
              "  <svg xmlns=\"http://www.w3.org/2000/svg\" height=\"24px\"viewBox=\"0 0 24 24\"\n",
              "       width=\"24px\">\n",
              "    <path d=\"M0 0h24v24H0V0z\" fill=\"none\"/>\n",
              "    <path d=\"M18.56 5.44l.94 2.06.94-2.06 2.06-.94-2.06-.94-.94-2.06-.94 2.06-2.06.94zm-11 1L8.5 8.5l.94-2.06 2.06-.94-2.06-.94L8.5 2.5l-.94 2.06-2.06.94zm10 10l.94 2.06.94-2.06 2.06-.94-2.06-.94-.94-2.06-.94 2.06-2.06.94z\"/><path d=\"M17.41 7.96l-1.37-1.37c-.4-.4-.92-.59-1.43-.59-.52 0-1.04.2-1.43.59L10.3 9.45l-7.72 7.72c-.78.78-.78 2.05 0 2.83L4 21.41c.39.39.9.59 1.41.59.51 0 1.02-.2 1.41-.59l7.78-7.78 2.81-2.81c.8-.78.8-2.07 0-2.86zM5.41 20L4 18.59l7.72-7.72 1.47 1.35L5.41 20z\"/>\n",
              "  </svg>\n",
              "      </button>\n",
              "      \n",
              "  <style>\n",
              "    .colab-df-container {\n",
              "      display:flex;\n",
              "      flex-wrap:wrap;\n",
              "      gap: 12px;\n",
              "    }\n",
              "\n",
              "    .colab-df-convert {\n",
              "      background-color: #E8F0FE;\n",
              "      border: none;\n",
              "      border-radius: 50%;\n",
              "      cursor: pointer;\n",
              "      display: none;\n",
              "      fill: #1967D2;\n",
              "      height: 32px;\n",
              "      padding: 0 0 0 0;\n",
              "      width: 32px;\n",
              "    }\n",
              "\n",
              "    .colab-df-convert:hover {\n",
              "      background-color: #E2EBFA;\n",
              "      box-shadow: 0px 1px 2px rgba(60, 64, 67, 0.3), 0px 1px 3px 1px rgba(60, 64, 67, 0.15);\n",
              "      fill: #174EA6;\n",
              "    }\n",
              "\n",
              "    [theme=dark] .colab-df-convert {\n",
              "      background-color: #3B4455;\n",
              "      fill: #D2E3FC;\n",
              "    }\n",
              "\n",
              "    [theme=dark] .colab-df-convert:hover {\n",
              "      background-color: #434B5C;\n",
              "      box-shadow: 0px 1px 3px 1px rgba(0, 0, 0, 0.15);\n",
              "      filter: drop-shadow(0px 1px 2px rgba(0, 0, 0, 0.3));\n",
              "      fill: #FFFFFF;\n",
              "    }\n",
              "  </style>\n",
              "\n",
              "      <script>\n",
              "        const buttonEl =\n",
              "          document.querySelector('#df-09e6026e-65ec-409e-8e8e-309d1fc9cc0c button.colab-df-convert');\n",
              "        buttonEl.style.display =\n",
              "          google.colab.kernel.accessAllowed ? 'block' : 'none';\n",
              "\n",
              "        async function convertToInteractive(key) {\n",
              "          const element = document.querySelector('#df-09e6026e-65ec-409e-8e8e-309d1fc9cc0c');\n",
              "          const dataTable =\n",
              "            await google.colab.kernel.invokeFunction('convertToInteractive',\n",
              "                                                     [key], {});\n",
              "          if (!dataTable) return;\n",
              "\n",
              "          const docLinkHtml = 'Like what you see? Visit the ' +\n",
              "            '<a target=\"_blank\" href=https://colab.research.google.com/notebooks/data_table.ipynb>data table notebook</a>'\n",
              "            + ' to learn more about interactive tables.';\n",
              "          element.innerHTML = '';\n",
              "          dataTable['output_type'] = 'display_data';\n",
              "          await google.colab.output.renderOutput(dataTable, element);\n",
              "          const docLink = document.createElement('div');\n",
              "          docLink.innerHTML = docLinkHtml;\n",
              "          element.appendChild(docLink);\n",
              "        }\n",
              "      </script>\n",
              "    </div>\n",
              "  </div>\n",
              "  "
            ]
          },
          "metadata": {},
          "execution_count": 17
        }
      ]
    },
    {
      "cell_type": "markdown",
      "source": [
        "The next code cell creates a DataFrame `stats` containing the population, area (in square kilometers), and population density (per square kilometer) for each Japanese prefecture.  Run the code cell without changes."
      ],
      "metadata": {
        "id": "NSyFa1auHAdl"
      }
    },
    {
      "cell_type": "code",
      "source": [
        "# DataFrame containing population of each prefecture\n",
        "##population = pd.read_csv(\"../input/geospatial-learn-course-data/japan-prefecture-population.csv\")\n",
        "population = pd.read_csv(\"/content/drive/MyDrive/data_mining/japan-prefecture-population.csv\")\n",
        "population.set_index('prefecture', inplace=True)\n",
        "\n",
        "# Calculate area (in square kilometers) of each prefecture\n",
        "area_sqkm = pd.Series(prefectures.geometry.to_crs(epsg=32654).area / 10**6, name='area_sqkm')\n",
        "stats = population.join(area_sqkm)\n",
        "\n",
        "# Add density (per square kilometer) of each prefecture\n",
        "stats['density'] = stats[\"population\"] / stats[\"area_sqkm\"]\n",
        "stats.head()"
      ],
      "metadata": {
        "colab": {
          "base_uri": "https://localhost:8080/",
          "height": 237
        },
        "id": "97cb640MHAdm",
        "outputId": "97e529e0-ac0e-4e87-ec66-0488ff27bb86"
      },
      "execution_count": 19,
      "outputs": [
        {
          "output_type": "execute_result",
          "data": {
            "text/plain": [
              "            population    area_sqkm      density\n",
              "prefecture                                      \n",
              "Tokyo         12868000  1800.614782  7146.448049\n",
              "Kanagawa       8943000  2383.038975  3752.771186\n",
              "Osaka          8801000  1923.151529  4576.342460\n",
              "Aichi          7418000  5164.400005  1436.372085\n",
              "Saitama        7130000  3794.036890  1879.264806"
            ],
            "text/html": [
              "\n",
              "  <div id=\"df-d1f8d4c6-2276-474a-aca6-12e2d6969715\">\n",
              "    <div class=\"colab-df-container\">\n",
              "      <div>\n",
              "<style scoped>\n",
              "    .dataframe tbody tr th:only-of-type {\n",
              "        vertical-align: middle;\n",
              "    }\n",
              "\n",
              "    .dataframe tbody tr th {\n",
              "        vertical-align: top;\n",
              "    }\n",
              "\n",
              "    .dataframe thead th {\n",
              "        text-align: right;\n",
              "    }\n",
              "</style>\n",
              "<table border=\"1\" class=\"dataframe\">\n",
              "  <thead>\n",
              "    <tr style=\"text-align: right;\">\n",
              "      <th></th>\n",
              "      <th>population</th>\n",
              "      <th>area_sqkm</th>\n",
              "      <th>density</th>\n",
              "    </tr>\n",
              "    <tr>\n",
              "      <th>prefecture</th>\n",
              "      <th></th>\n",
              "      <th></th>\n",
              "      <th></th>\n",
              "    </tr>\n",
              "  </thead>\n",
              "  <tbody>\n",
              "    <tr>\n",
              "      <th>Tokyo</th>\n",
              "      <td>12868000</td>\n",
              "      <td>1800.614782</td>\n",
              "      <td>7146.448049</td>\n",
              "    </tr>\n",
              "    <tr>\n",
              "      <th>Kanagawa</th>\n",
              "      <td>8943000</td>\n",
              "      <td>2383.038975</td>\n",
              "      <td>3752.771186</td>\n",
              "    </tr>\n",
              "    <tr>\n",
              "      <th>Osaka</th>\n",
              "      <td>8801000</td>\n",
              "      <td>1923.151529</td>\n",
              "      <td>4576.342460</td>\n",
              "    </tr>\n",
              "    <tr>\n",
              "      <th>Aichi</th>\n",
              "      <td>7418000</td>\n",
              "      <td>5164.400005</td>\n",
              "      <td>1436.372085</td>\n",
              "    </tr>\n",
              "    <tr>\n",
              "      <th>Saitama</th>\n",
              "      <td>7130000</td>\n",
              "      <td>3794.036890</td>\n",
              "      <td>1879.264806</td>\n",
              "    </tr>\n",
              "  </tbody>\n",
              "</table>\n",
              "</div>\n",
              "      <button class=\"colab-df-convert\" onclick=\"convertToInteractive('df-d1f8d4c6-2276-474a-aca6-12e2d6969715')\"\n",
              "              title=\"Convert this dataframe to an interactive table.\"\n",
              "              style=\"display:none;\">\n",
              "        \n",
              "  <svg xmlns=\"http://www.w3.org/2000/svg\" height=\"24px\"viewBox=\"0 0 24 24\"\n",
              "       width=\"24px\">\n",
              "    <path d=\"M0 0h24v24H0V0z\" fill=\"none\"/>\n",
              "    <path d=\"M18.56 5.44l.94 2.06.94-2.06 2.06-.94-2.06-.94-.94-2.06-.94 2.06-2.06.94zm-11 1L8.5 8.5l.94-2.06 2.06-.94-2.06-.94L8.5 2.5l-.94 2.06-2.06.94zm10 10l.94 2.06.94-2.06 2.06-.94-2.06-.94-.94-2.06-.94 2.06-2.06.94z\"/><path d=\"M17.41 7.96l-1.37-1.37c-.4-.4-.92-.59-1.43-.59-.52 0-1.04.2-1.43.59L10.3 9.45l-7.72 7.72c-.78.78-.78 2.05 0 2.83L4 21.41c.39.39.9.59 1.41.59.51 0 1.02-.2 1.41-.59l7.78-7.78 2.81-2.81c.8-.78.8-2.07 0-2.86zM5.41 20L4 18.59l7.72-7.72 1.47 1.35L5.41 20z\"/>\n",
              "  </svg>\n",
              "      </button>\n",
              "      \n",
              "  <style>\n",
              "    .colab-df-container {\n",
              "      display:flex;\n",
              "      flex-wrap:wrap;\n",
              "      gap: 12px;\n",
              "    }\n",
              "\n",
              "    .colab-df-convert {\n",
              "      background-color: #E8F0FE;\n",
              "      border: none;\n",
              "      border-radius: 50%;\n",
              "      cursor: pointer;\n",
              "      display: none;\n",
              "      fill: #1967D2;\n",
              "      height: 32px;\n",
              "      padding: 0 0 0 0;\n",
              "      width: 32px;\n",
              "    }\n",
              "\n",
              "    .colab-df-convert:hover {\n",
              "      background-color: #E2EBFA;\n",
              "      box-shadow: 0px 1px 2px rgba(60, 64, 67, 0.3), 0px 1px 3px 1px rgba(60, 64, 67, 0.15);\n",
              "      fill: #174EA6;\n",
              "    }\n",
              "\n",
              "    [theme=dark] .colab-df-convert {\n",
              "      background-color: #3B4455;\n",
              "      fill: #D2E3FC;\n",
              "    }\n",
              "\n",
              "    [theme=dark] .colab-df-convert:hover {\n",
              "      background-color: #434B5C;\n",
              "      box-shadow: 0px 1px 3px 1px rgba(0, 0, 0, 0.15);\n",
              "      filter: drop-shadow(0px 1px 2px rgba(0, 0, 0, 0.3));\n",
              "      fill: #FFFFFF;\n",
              "    }\n",
              "  </style>\n",
              "\n",
              "      <script>\n",
              "        const buttonEl =\n",
              "          document.querySelector('#df-d1f8d4c6-2276-474a-aca6-12e2d6969715 button.colab-df-convert');\n",
              "        buttonEl.style.display =\n",
              "          google.colab.kernel.accessAllowed ? 'block' : 'none';\n",
              "\n",
              "        async function convertToInteractive(key) {\n",
              "          const element = document.querySelector('#df-d1f8d4c6-2276-474a-aca6-12e2d6969715');\n",
              "          const dataTable =\n",
              "            await google.colab.kernel.invokeFunction('convertToInteractive',\n",
              "                                                     [key], {});\n",
              "          if (!dataTable) return;\n",
              "\n",
              "          const docLinkHtml = 'Like what you see? Visit the ' +\n",
              "            '<a target=\"_blank\" href=https://colab.research.google.com/notebooks/data_table.ipynb>data table notebook</a>'\n",
              "            + ' to learn more about interactive tables.';\n",
              "          element.innerHTML = '';\n",
              "          dataTable['output_type'] = 'display_data';\n",
              "          await google.colab.output.renderOutput(dataTable, element);\n",
              "          const docLink = document.createElement('div');\n",
              "          docLink.innerHTML = docLinkHtml;\n",
              "          element.appendChild(docLink);\n",
              "        }\n",
              "      </script>\n",
              "    </div>\n",
              "  </div>\n",
              "  "
            ]
          },
          "metadata": {},
          "execution_count": 19
        }
      ]
    },
    {
      "cell_type": "markdown",
      "source": [
        "Use the next code cell to create a choropleth map to visualize population density."
      ],
      "metadata": {
        "id": "-c9e-Z5fHAdm"
      }
    },
    {
      "cell_type": "code",
      "source": [
        "# Create a base map\n",
        "m_3 = folium.Map(location=[35,136], tiles='cartodbpositron', zoom_start=5)\n",
        "\n",
        "# Your code here: create a choropleth map to visualize population density\n",
        "choropleth = Choropleth(\n",
        "    geo_data=prefectures,\n",
        "    data=stats,\n",
        "    columns=['prefecture', 'density'],\n",
        "    key_on='feature.id',\n",
        "    fill_color='YlOrRd',\n",
        "    fill_opacity=0.7,\n",
        "    line_opacity=0.2,\n",
        "    legend_name='Population Density (per sqkm)'\n",
        ").add_to(m_3)\n",
        "\n",
        "# Uncomment to see a hint\n",
        "#q_3.a.hint()\n",
        "\n",
        "# View the map\n",
        "embed_map(m_3, 'q_3.html')"
      ],
      "metadata": {
        "id": "fREISy9RHAdn"
      },
      "execution_count": null,
      "outputs": []
    },
    {
      "cell_type": "code",
      "source": [
        "# Get credit for your work after you have created a map\n",
        "q_3.a.check()\n",
        "\n",
        "# Uncomment to see our solution (your code may look different!)\n",
        "#q_3.a.solution()"
      ],
      "metadata": {
        "id": "OWKxvOIQHAdn"
      },
      "execution_count": null,
      "outputs": []
    },
    {
      "cell_type": "markdown",
      "source": [
        "Which three prefectures have relatively higher density than the others?  Are they spread throughout the country, or all located in roughly the same geographical region?  (*If you're unfamiliar with Japanese geography, you might find [this map](https://en.wikipedia.org/wiki/Prefectures_of_Japan) useful to answer the questions.)*"
      ],
      "metadata": {
        "id": "MeMZPNdyHAdn"
      }
    },
    {
      "cell_type": "code",
      "source": [
        "# View the solution (Run this code cell to receive credit!)\n",
        "q_3.b.solution()"
      ],
      "metadata": {
        "id": "HIeSZWrjHAdo"
      },
      "execution_count": null,
      "outputs": []
    },
    {
      "cell_type": "markdown",
      "source": [
        "### 4) Which high-density prefecture is prone to high-magnitude earthquakes?\n",
        "\n",
        "Create a map to suggest one prefecture that might benefit from earthquake reinforcement.  Your map should visualize both density and earthquake magnitude."
      ],
      "metadata": {
        "id": "D0Mse5DEHAdo"
      }
    },
    {
      "cell_type": "code",
      "source": [
        "# Create a base map\n",
        "m_4 = folium.Map(location=[35,136], tiles='cartodbpositron', zoom_start=5)\n",
        "\n",
        "# Your code here: create a map\n",
        "for i in range(len(prefectures)):\n",
        "    folium.Choropleth(\n",
        "        geo_data=prefectures.iloc[i]['geometry'],\n",
        "        fill_color='YlOrRd',\n",
        "        fill_opacity=0.7,\n",
        "        line_opacity=0.2,\n",
        "        legend_name='Population Density (per sqkm)',\n",
        "        name='Population Density'\n",
        "    ).add_to(m_4)\n",
        "    \n",
        "for i in range(len(earthquakes)):\n",
        "    folium.Circle(\n",
        "        location=[earthquakes.iloc[i]['Latitude'], earthquakes.iloc[i]['Longitude']],\n",
        "        radius=5000 * (10 ** (earthquakes.iloc[i]['Magnitude'] - 5)),\n",
        "        color='blue',\n",
        "        fill=True,\n",
        "        fill_opacity=0.3,\n",
        "        name='Earthquake Magnitude'\n",
        "    ).add_to(m_4)\n",
        "\n",
        "# Uncomment to see a hint\n",
        "#q_4.a.hint()\n",
        "\n",
        "# View the map\n",
        "embed_map(m_4, 'q_4.html')"
      ],
      "metadata": {
        "colab": {
          "base_uri": "https://localhost:8080/",
          "height": 520
        },
        "id": "Hggu42kBHAdo",
        "outputId": "ac54851a-d140-4363-8a83-b4398b1e4ec9"
      },
      "execution_count": 22,
      "outputs": [
        {
          "output_type": "execute_result",
          "data": {
            "text/plain": [
              "<IPython.lib.display.IFrame at 0x7f716e57e4a0>"
            ],
            "text/html": [
              "\n",
              "        <iframe\n",
              "            width=\"100%\"\n",
              "            height=\"500px\"\n",
              "            src=\"q_4.html\"\n",
              "            frameborder=\"0\"\n",
              "            allowfullscreen\n",
              "            \n",
              "        ></iframe>\n",
              "        "
            ]
          },
          "metadata": {},
          "execution_count": 22
        }
      ]
    },
    {
      "cell_type": "code",
      "source": [
        "# Get credit for your work after you have created a map\n",
        "q_4.a.check()\n",
        "\n",
        "# Uncomment to see our solution (your code may look different!)\n",
        "#q_4.a.solution()"
      ],
      "metadata": {
        "id": "FFxjr0nXHAdp"
      },
      "execution_count": null,
      "outputs": []
    },
    {
      "cell_type": "markdown",
      "source": [
        "Which prefecture do you recommend for extra earthquake reinforcement?"
      ],
      "metadata": {
        "id": "89klvb6yHAdp"
      }
    },
    {
      "cell_type": "code",
      "source": [
        "# View the solution (Run this code cell to receive credit!)\n",
        "q_4.b.solution()"
      ],
      "metadata": {
        "id": "S03fYiYdHAdq"
      },
      "execution_count": null,
      "outputs": []
    },
    {
      "cell_type": "markdown",
      "source": [
        "# Keep going\n",
        "\n",
        "Learn how to convert names of places to geographic coordinates with **[geocoding](https://www.kaggle.com/alexisbcook/manipulating-geospatial-data)**.  You'll also explore special ways to join information from multiple GeoDataFrames."
      ],
      "metadata": {
        "id": "IP6x1V4vHAdq"
      }
    },
    {
      "cell_type": "markdown",
      "source": [
        "---\n",
        "\n",
        "\n",
        "\n",
        "\n",
        "*Have questions or comments? Visit the [course discussion forum](https://www.kaggle.com/learn/geospatial-analysis/discussion) to chat with other learners.*"
      ],
      "metadata": {
        "id": "raxVPKmkHAdr"
      }
    }
  ]
}