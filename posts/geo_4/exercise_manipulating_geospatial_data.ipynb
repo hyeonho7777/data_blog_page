{
  "cells": [
    {
      "attachments": {},
      "cell_type": "markdown",
      "metadata": {},
      "source": [
        "---\n",
        "title: \"Exercise: exercise-manipulating-geospatial-data\"\n",
        "author: \"Hyeonho Jeong\"\n",
        "date: \"2023-05-18\"\n",
        "categories: [code]\n",
        "image: \"image.png\"\n",
        "---\n",
        "\n",
        "exercise-manipulating-geospatial-data입니다."
      ]
    },
    {
      "cell_type": "code",
      "execution_count": null,
      "metadata": {
        "colab": {
          "base_uri": "https://localhost:8080/"
        },
        "id": "JjrPSi6QRyRE",
        "outputId": "310324bc-9947-4200-d208-a5e85ae07f15"
      },
      "outputs": [
        {
          "name": "stdout",
          "output_type": "stream",
          "text": [
            "Mounted at /content/drive\n"
          ]
        }
      ],
      "source": [
        "from google.colab import drive\n",
        "drive.mount('/content/drive')"
      ]
    },
    {
      "cell_type": "code",
      "execution_count": null,
      "metadata": {
        "colab": {
          "base_uri": "https://localhost:8080/"
        },
        "id": "ZS-q2uMZRyaN",
        "outputId": "95104fe3-b3c2-4952-c9de-a4f286dad5f9"
      },
      "outputs": [
        {
          "name": "stdout",
          "output_type": "stream",
          "text": [
            "Looking in indexes: https://pypi.org/simple, https://us-python.pkg.dev/colab-wheels/public/simple/\n",
            "Collecting geopandas\n",
            "  Downloading geopandas-0.13.0-py3-none-any.whl (1.1 MB)\n",
            "\u001b[2K     \u001b[90m━━━━━━━━━━━━━━━━━━━━━━━━━━━━━━━━━━━━━━━━\u001b[0m \u001b[32m1.1/1.1 MB\u001b[0m \u001b[31m15.3 MB/s\u001b[0m eta \u001b[36m0:00:00\u001b[0m\n",
            "\u001b[?25hCollecting fiona>=1.8.19 (from geopandas)\n",
            "  Downloading Fiona-1.9.3-cp310-cp310-manylinux_2_17_x86_64.manylinux2014_x86_64.whl (16.0 MB)\n",
            "\u001b[2K     \u001b[90m━━━━━━━━━━━━━━━━━━━━━━━━━━━━━━━━━━━━━━━━\u001b[0m \u001b[32m16.0/16.0 MB\u001b[0m \u001b[31m81.3 MB/s\u001b[0m eta \u001b[36m0:00:00\u001b[0m\n",
            "\u001b[?25hRequirement already satisfied: packaging in /usr/local/lib/python3.10/dist-packages (from geopandas) (23.1)\n",
            "Requirement already satisfied: pandas>=1.1.0 in /usr/local/lib/python3.10/dist-packages (from geopandas) (1.5.3)\n",
            "Collecting pyproj>=3.0.1 (from geopandas)\n",
            "  Downloading pyproj-3.5.0-cp310-cp310-manylinux_2_17_x86_64.manylinux2014_x86_64.whl (7.7 MB)\n",
            "\u001b[2K     \u001b[90m━━━━━━━━━━━━━━━━━━━━━━━━━━━━━━━━━━━━━━━━\u001b[0m \u001b[32m7.7/7.7 MB\u001b[0m \u001b[31m95.1 MB/s\u001b[0m eta \u001b[36m0:00:00\u001b[0m\n",
            "\u001b[?25hRequirement already satisfied: shapely>=1.7.1 in /usr/local/lib/python3.10/dist-packages (from geopandas) (2.0.1)\n",
            "Requirement already satisfied: attrs>=19.2.0 in /usr/local/lib/python3.10/dist-packages (from fiona>=1.8.19->geopandas) (23.1.0)\n",
            "Requirement already satisfied: certifi in /usr/local/lib/python3.10/dist-packages (from fiona>=1.8.19->geopandas) (2022.12.7)\n",
            "Requirement already satisfied: click~=8.0 in /usr/local/lib/python3.10/dist-packages (from fiona>=1.8.19->geopandas) (8.1.3)\n",
            "Collecting click-plugins>=1.0 (from fiona>=1.8.19->geopandas)\n",
            "  Downloading click_plugins-1.1.1-py2.py3-none-any.whl (7.5 kB)\n",
            "Collecting cligj>=0.5 (from fiona>=1.8.19->geopandas)\n",
            "  Downloading cligj-0.7.2-py3-none-any.whl (7.1 kB)\n",
            "Collecting munch>=2.3.2 (from fiona>=1.8.19->geopandas)\n",
            "  Downloading munch-3.0.0-py2.py3-none-any.whl (10 kB)\n",
            "Requirement already satisfied: python-dateutil>=2.8.1 in /usr/local/lib/python3.10/dist-packages (from pandas>=1.1.0->geopandas) (2.8.2)\n",
            "Requirement already satisfied: pytz>=2020.1 in /usr/local/lib/python3.10/dist-packages (from pandas>=1.1.0->geopandas) (2022.7.1)\n",
            "Requirement already satisfied: numpy>=1.21.0 in /usr/local/lib/python3.10/dist-packages (from pandas>=1.1.0->geopandas) (1.22.4)\n",
            "Requirement already satisfied: six in /usr/local/lib/python3.10/dist-packages (from munch>=2.3.2->fiona>=1.8.19->geopandas) (1.16.0)\n",
            "Installing collected packages: pyproj, munch, cligj, click-plugins, fiona, geopandas\n",
            "Successfully installed click-plugins-1.1.1 cligj-0.7.2 fiona-1.9.3 geopandas-0.13.0 munch-3.0.0 pyproj-3.5.0\n"
          ]
        }
      ],
      "source": [
        "!pip install geopandas"
      ]
    },
    {
      "cell_type": "code",
      "execution_count": null,
      "metadata": {
        "id": "I3SyiEBsRycj"
      },
      "outputs": [],
      "source": []
    },
    {
      "cell_type": "code",
      "execution_count": null,
      "metadata": {
        "id": "U4ZHbb5QRye-"
      },
      "outputs": [],
      "source": []
    },
    {
      "cell_type": "code",
      "execution_count": null,
      "metadata": {
        "id": "xFX-g42NRuvh"
      },
      "outputs": [],
      "source": [
        "import math\n",
        "import pandas as pd\n",
        "import geopandas as gpd\n",
        "#from geopy.geocoders import Nominatim            # What you'd normally run\n",
        "#from learntools.geospatial.tools import Nominatim # Just for this exercise\n",
        "from geopy.geocoders import Nominatim\n",
        "\n",
        "\n",
        "import folium \n",
        "from folium import Marker\n",
        "from folium.plugins import MarkerCluster\n"
      ]
    },
    {
      "cell_type": "code",
      "execution_count": null,
      "metadata": {
        "id": "eaaH-ZcgT7wh"
      },
      "outputs": [],
      "source": [
        "from learntools.core import binder\n",
        "binder.bind(globals())\n",
        "from learntools.geospatial.ex4 import *"
      ]
    },
    {
      "cell_type": "markdown",
      "metadata": {
        "id": "bDNC86kaRuvl"
      },
      "source": [
        "You'll use the `embed_map()` function from the previous exercise to visualize your maps."
      ]
    },
    {
      "cell_type": "code",
      "execution_count": null,
      "metadata": {
        "id": "XH9jTYVhRuvm"
      },
      "outputs": [],
      "source": [
        "def embed_map(m, file_name):\n",
        "    from IPython.display import IFrame\n",
        "    m.save(file_name)\n",
        "    return IFrame(file_name, width='100%', height='500px')"
      ]
    },
    {
      "cell_type": "markdown",
      "metadata": {
        "id": "2lAsp77nRuvn"
      },
      "source": [
        "# Exercises\n",
        "\n",
        "### 1) Geocode the missing locations.\n",
        "\n",
        "Run the next code cell to create a DataFrame `starbucks` containing Starbucks locations in the state of California."
      ]
    },
    {
      "cell_type": "code",
      "execution_count": null,
      "metadata": {
        "colab": {
          "base_uri": "https://localhost:8080/",
          "height": 206
        },
        "id": "QuiKxDuqRuvo",
        "outputId": "f37d5ac6-bb92-433b-8073-3048a70778ef"
      },
      "outputs": [
        {
          "data": {
            "text/html": [
              "\n",
              "  <div id=\"df-75dda136-3b0b-440e-bf78-80bca84e2af4\">\n",
              "    <div class=\"colab-df-container\">\n",
              "      <div>\n",
              "<style scoped>\n",
              "    .dataframe tbody tr th:only-of-type {\n",
              "        vertical-align: middle;\n",
              "    }\n",
              "\n",
              "    .dataframe tbody tr th {\n",
              "        vertical-align: top;\n",
              "    }\n",
              "\n",
              "    .dataframe thead th {\n",
              "        text-align: right;\n",
              "    }\n",
              "</style>\n",
              "<table border=\"1\" class=\"dataframe\">\n",
              "  <thead>\n",
              "    <tr style=\"text-align: right;\">\n",
              "      <th></th>\n",
              "      <th>Store Number</th>\n",
              "      <th>Store Name</th>\n",
              "      <th>Address</th>\n",
              "      <th>City</th>\n",
              "      <th>Longitude</th>\n",
              "      <th>Latitude</th>\n",
              "    </tr>\n",
              "  </thead>\n",
              "  <tbody>\n",
              "    <tr>\n",
              "      <th>0</th>\n",
              "      <td>10429-100710</td>\n",
              "      <td>Palmdale &amp; Hwy 395</td>\n",
              "      <td>14136 US Hwy 395 Adelanto CA</td>\n",
              "      <td>Adelanto</td>\n",
              "      <td>-117.40</td>\n",
              "      <td>34.51</td>\n",
              "    </tr>\n",
              "    <tr>\n",
              "      <th>1</th>\n",
              "      <td>635-352</td>\n",
              "      <td>Kanan &amp; Thousand Oaks</td>\n",
              "      <td>5827 Kanan Road Agoura CA</td>\n",
              "      <td>Agoura</td>\n",
              "      <td>-118.76</td>\n",
              "      <td>34.16</td>\n",
              "    </tr>\n",
              "    <tr>\n",
              "      <th>2</th>\n",
              "      <td>74510-27669</td>\n",
              "      <td>Vons-Agoura Hills #2001</td>\n",
              "      <td>5671 Kanan Rd. Agoura Hills CA</td>\n",
              "      <td>Agoura Hills</td>\n",
              "      <td>-118.76</td>\n",
              "      <td>34.15</td>\n",
              "    </tr>\n",
              "    <tr>\n",
              "      <th>3</th>\n",
              "      <td>29839-255026</td>\n",
              "      <td>Target Anaheim T-0677</td>\n",
              "      <td>8148 E SANTA ANA CANYON ROAD AHAHEIM CA</td>\n",
              "      <td>AHAHEIM</td>\n",
              "      <td>-117.75</td>\n",
              "      <td>33.87</td>\n",
              "    </tr>\n",
              "    <tr>\n",
              "      <th>4</th>\n",
              "      <td>23463-230284</td>\n",
              "      <td>Safeway - Alameda 3281</td>\n",
              "      <td>2600 5th Street Alameda CA</td>\n",
              "      <td>Alameda</td>\n",
              "      <td>-122.28</td>\n",
              "      <td>37.79</td>\n",
              "    </tr>\n",
              "  </tbody>\n",
              "</table>\n",
              "</div>\n",
              "      <button class=\"colab-df-convert\" onclick=\"convertToInteractive('df-75dda136-3b0b-440e-bf78-80bca84e2af4')\"\n",
              "              title=\"Convert this dataframe to an interactive table.\"\n",
              "              style=\"display:none;\">\n",
              "        \n",
              "  <svg xmlns=\"http://www.w3.org/2000/svg\" height=\"24px\"viewBox=\"0 0 24 24\"\n",
              "       width=\"24px\">\n",
              "    <path d=\"M0 0h24v24H0V0z\" fill=\"none\"/>\n",
              "    <path d=\"M18.56 5.44l.94 2.06.94-2.06 2.06-.94-2.06-.94-.94-2.06-.94 2.06-2.06.94zm-11 1L8.5 8.5l.94-2.06 2.06-.94-2.06-.94L8.5 2.5l-.94 2.06-2.06.94zm10 10l.94 2.06.94-2.06 2.06-.94-2.06-.94-.94-2.06-.94 2.06-2.06.94z\"/><path d=\"M17.41 7.96l-1.37-1.37c-.4-.4-.92-.59-1.43-.59-.52 0-1.04.2-1.43.59L10.3 9.45l-7.72 7.72c-.78.78-.78 2.05 0 2.83L4 21.41c.39.39.9.59 1.41.59.51 0 1.02-.2 1.41-.59l7.78-7.78 2.81-2.81c.8-.78.8-2.07 0-2.86zM5.41 20L4 18.59l7.72-7.72 1.47 1.35L5.41 20z\"/>\n",
              "  </svg>\n",
              "      </button>\n",
              "      \n",
              "  <style>\n",
              "    .colab-df-container {\n",
              "      display:flex;\n",
              "      flex-wrap:wrap;\n",
              "      gap: 12px;\n",
              "    }\n",
              "\n",
              "    .colab-df-convert {\n",
              "      background-color: #E8F0FE;\n",
              "      border: none;\n",
              "      border-radius: 50%;\n",
              "      cursor: pointer;\n",
              "      display: none;\n",
              "      fill: #1967D2;\n",
              "      height: 32px;\n",
              "      padding: 0 0 0 0;\n",
              "      width: 32px;\n",
              "    }\n",
              "\n",
              "    .colab-df-convert:hover {\n",
              "      background-color: #E2EBFA;\n",
              "      box-shadow: 0px 1px 2px rgba(60, 64, 67, 0.3), 0px 1px 3px 1px rgba(60, 64, 67, 0.15);\n",
              "      fill: #174EA6;\n",
              "    }\n",
              "\n",
              "    [theme=dark] .colab-df-convert {\n",
              "      background-color: #3B4455;\n",
              "      fill: #D2E3FC;\n",
              "    }\n",
              "\n",
              "    [theme=dark] .colab-df-convert:hover {\n",
              "      background-color: #434B5C;\n",
              "      box-shadow: 0px 1px 3px 1px rgba(0, 0, 0, 0.15);\n",
              "      filter: drop-shadow(0px 1px 2px rgba(0, 0, 0, 0.3));\n",
              "      fill: #FFFFFF;\n",
              "    }\n",
              "  </style>\n",
              "\n",
              "      <script>\n",
              "        const buttonEl =\n",
              "          document.querySelector('#df-75dda136-3b0b-440e-bf78-80bca84e2af4 button.colab-df-convert');\n",
              "        buttonEl.style.display =\n",
              "          google.colab.kernel.accessAllowed ? 'block' : 'none';\n",
              "\n",
              "        async function convertToInteractive(key) {\n",
              "          const element = document.querySelector('#df-75dda136-3b0b-440e-bf78-80bca84e2af4');\n",
              "          const dataTable =\n",
              "            await google.colab.kernel.invokeFunction('convertToInteractive',\n",
              "                                                     [key], {});\n",
              "          if (!dataTable) return;\n",
              "\n",
              "          const docLinkHtml = 'Like what you see? Visit the ' +\n",
              "            '<a target=\"_blank\" href=https://colab.research.google.com/notebooks/data_table.ipynb>data table notebook</a>'\n",
              "            + ' to learn more about interactive tables.';\n",
              "          element.innerHTML = '';\n",
              "          dataTable['output_type'] = 'display_data';\n",
              "          await google.colab.output.renderOutput(dataTable, element);\n",
              "          const docLink = document.createElement('div');\n",
              "          docLink.innerHTML = docLinkHtml;\n",
              "          element.appendChild(docLink);\n",
              "        }\n",
              "      </script>\n",
              "    </div>\n",
              "  </div>\n",
              "  "
            ],
            "text/plain": [
              "   Store Number               Store Name  \\\n",
              "0  10429-100710       Palmdale & Hwy 395   \n",
              "1       635-352    Kanan & Thousand Oaks   \n",
              "2   74510-27669  Vons-Agoura Hills #2001   \n",
              "3  29839-255026    Target Anaheim T-0677   \n",
              "4  23463-230284   Safeway - Alameda 3281   \n",
              "\n",
              "                                   Address          City  Longitude  Latitude  \n",
              "0             14136 US Hwy 395 Adelanto CA      Adelanto    -117.40     34.51  \n",
              "1                5827 Kanan Road Agoura CA        Agoura    -118.76     34.16  \n",
              "2           5671 Kanan Rd. Agoura Hills CA  Agoura Hills    -118.76     34.15  \n",
              "3  8148 E SANTA ANA CANYON ROAD AHAHEIM CA       AHAHEIM    -117.75     33.87  \n",
              "4               2600 5th Street Alameda CA       Alameda    -122.28     37.79  "
            ]
          },
          "execution_count": 8,
          "metadata": {},
          "output_type": "execute_result"
        }
      ],
      "source": [
        "# Load and preview Starbucks locations in California\n",
        "#starbucks = pd.read_csv(\"../input/geospatial-learn-course-data/starbucks_locations.csv\")\n",
        "starbucks = pd.read_csv(\"/content/drive/MyDrive/data_mining/starbucks_locations.csv\")\n",
        "starbucks.head()"
      ]
    },
    {
      "cell_type": "markdown",
      "metadata": {
        "id": "khlOziPARuvp"
      },
      "source": [
        "Most of the stores have known (latitude, longitude) locations.  But, all of the locations in the city of Berkeley are missing."
      ]
    },
    {
      "cell_type": "code",
      "execution_count": null,
      "metadata": {
        "colab": {
          "base_uri": "https://localhost:8080/",
          "height": 333
        },
        "id": "L-6VnEuDRuvs",
        "outputId": "370c9ea7-7761-4ec9-827a-680e22af0bf5"
      },
      "outputs": [
        {
          "name": "stdout",
          "output_type": "stream",
          "text": [
            "Store Number    0\n",
            "Store Name      0\n",
            "Address         0\n",
            "City            0\n",
            "Longitude       5\n",
            "Latitude        5\n",
            "dtype: int64\n"
          ]
        },
        {
          "data": {
            "text/html": [
              "\n",
              "  <div id=\"df-864b1e2b-9a44-4a16-a5e4-392f5474d2fb\">\n",
              "    <div class=\"colab-df-container\">\n",
              "      <div>\n",
              "<style scoped>\n",
              "    .dataframe tbody tr th:only-of-type {\n",
              "        vertical-align: middle;\n",
              "    }\n",
              "\n",
              "    .dataframe tbody tr th {\n",
              "        vertical-align: top;\n",
              "    }\n",
              "\n",
              "    .dataframe thead th {\n",
              "        text-align: right;\n",
              "    }\n",
              "</style>\n",
              "<table border=\"1\" class=\"dataframe\">\n",
              "  <thead>\n",
              "    <tr style=\"text-align: right;\">\n",
              "      <th></th>\n",
              "      <th>Store Number</th>\n",
              "      <th>Store Name</th>\n",
              "      <th>Address</th>\n",
              "      <th>City</th>\n",
              "      <th>Longitude</th>\n",
              "      <th>Latitude</th>\n",
              "    </tr>\n",
              "  </thead>\n",
              "  <tbody>\n",
              "    <tr>\n",
              "      <th>153</th>\n",
              "      <td>5406-945</td>\n",
              "      <td>2224 Shattuck - Berkeley</td>\n",
              "      <td>2224 Shattuck Avenue Berkeley CA</td>\n",
              "      <td>Berkeley</td>\n",
              "      <td>NaN</td>\n",
              "      <td>NaN</td>\n",
              "    </tr>\n",
              "    <tr>\n",
              "      <th>154</th>\n",
              "      <td>570-512</td>\n",
              "      <td>Solano Ave</td>\n",
              "      <td>1799 Solano Avenue Berkeley CA</td>\n",
              "      <td>Berkeley</td>\n",
              "      <td>NaN</td>\n",
              "      <td>NaN</td>\n",
              "    </tr>\n",
              "    <tr>\n",
              "      <th>155</th>\n",
              "      <td>17877-164526</td>\n",
              "      <td>Safeway - Berkeley #691</td>\n",
              "      <td>1444 Shattuck Place Berkeley CA</td>\n",
              "      <td>Berkeley</td>\n",
              "      <td>NaN</td>\n",
              "      <td>NaN</td>\n",
              "    </tr>\n",
              "    <tr>\n",
              "      <th>156</th>\n",
              "      <td>19864-202264</td>\n",
              "      <td>Telegraph &amp; Ashby</td>\n",
              "      <td>3001 Telegraph Avenue Berkeley CA</td>\n",
              "      <td>Berkeley</td>\n",
              "      <td>NaN</td>\n",
              "      <td>NaN</td>\n",
              "    </tr>\n",
              "    <tr>\n",
              "      <th>157</th>\n",
              "      <td>9217-9253</td>\n",
              "      <td>2128 Oxford St.</td>\n",
              "      <td>2128 Oxford Street Berkeley CA</td>\n",
              "      <td>Berkeley</td>\n",
              "      <td>NaN</td>\n",
              "      <td>NaN</td>\n",
              "    </tr>\n",
              "  </tbody>\n",
              "</table>\n",
              "</div>\n",
              "      <button class=\"colab-df-convert\" onclick=\"convertToInteractive('df-864b1e2b-9a44-4a16-a5e4-392f5474d2fb')\"\n",
              "              title=\"Convert this dataframe to an interactive table.\"\n",
              "              style=\"display:none;\">\n",
              "        \n",
              "  <svg xmlns=\"http://www.w3.org/2000/svg\" height=\"24px\"viewBox=\"0 0 24 24\"\n",
              "       width=\"24px\">\n",
              "    <path d=\"M0 0h24v24H0V0z\" fill=\"none\"/>\n",
              "    <path d=\"M18.56 5.44l.94 2.06.94-2.06 2.06-.94-2.06-.94-.94-2.06-.94 2.06-2.06.94zm-11 1L8.5 8.5l.94-2.06 2.06-.94-2.06-.94L8.5 2.5l-.94 2.06-2.06.94zm10 10l.94 2.06.94-2.06 2.06-.94-2.06-.94-.94-2.06-.94 2.06-2.06.94z\"/><path d=\"M17.41 7.96l-1.37-1.37c-.4-.4-.92-.59-1.43-.59-.52 0-1.04.2-1.43.59L10.3 9.45l-7.72 7.72c-.78.78-.78 2.05 0 2.83L4 21.41c.39.39.9.59 1.41.59.51 0 1.02-.2 1.41-.59l7.78-7.78 2.81-2.81c.8-.78.8-2.07 0-2.86zM5.41 20L4 18.59l7.72-7.72 1.47 1.35L5.41 20z\"/>\n",
              "  </svg>\n",
              "      </button>\n",
              "      \n",
              "  <style>\n",
              "    .colab-df-container {\n",
              "      display:flex;\n",
              "      flex-wrap:wrap;\n",
              "      gap: 12px;\n",
              "    }\n",
              "\n",
              "    .colab-df-convert {\n",
              "      background-color: #E8F0FE;\n",
              "      border: none;\n",
              "      border-radius: 50%;\n",
              "      cursor: pointer;\n",
              "      display: none;\n",
              "      fill: #1967D2;\n",
              "      height: 32px;\n",
              "      padding: 0 0 0 0;\n",
              "      width: 32px;\n",
              "    }\n",
              "\n",
              "    .colab-df-convert:hover {\n",
              "      background-color: #E2EBFA;\n",
              "      box-shadow: 0px 1px 2px rgba(60, 64, 67, 0.3), 0px 1px 3px 1px rgba(60, 64, 67, 0.15);\n",
              "      fill: #174EA6;\n",
              "    }\n",
              "\n",
              "    [theme=dark] .colab-df-convert {\n",
              "      background-color: #3B4455;\n",
              "      fill: #D2E3FC;\n",
              "    }\n",
              "\n",
              "    [theme=dark] .colab-df-convert:hover {\n",
              "      background-color: #434B5C;\n",
              "      box-shadow: 0px 1px 3px 1px rgba(0, 0, 0, 0.15);\n",
              "      filter: drop-shadow(0px 1px 2px rgba(0, 0, 0, 0.3));\n",
              "      fill: #FFFFFF;\n",
              "    }\n",
              "  </style>\n",
              "\n",
              "      <script>\n",
              "        const buttonEl =\n",
              "          document.querySelector('#df-864b1e2b-9a44-4a16-a5e4-392f5474d2fb button.colab-df-convert');\n",
              "        buttonEl.style.display =\n",
              "          google.colab.kernel.accessAllowed ? 'block' : 'none';\n",
              "\n",
              "        async function convertToInteractive(key) {\n",
              "          const element = document.querySelector('#df-864b1e2b-9a44-4a16-a5e4-392f5474d2fb');\n",
              "          const dataTable =\n",
              "            await google.colab.kernel.invokeFunction('convertToInteractive',\n",
              "                                                     [key], {});\n",
              "          if (!dataTable) return;\n",
              "\n",
              "          const docLinkHtml = 'Like what you see? Visit the ' +\n",
              "            '<a target=\"_blank\" href=https://colab.research.google.com/notebooks/data_table.ipynb>data table notebook</a>'\n",
              "            + ' to learn more about interactive tables.';\n",
              "          element.innerHTML = '';\n",
              "          dataTable['output_type'] = 'display_data';\n",
              "          await google.colab.output.renderOutput(dataTable, element);\n",
              "          const docLink = document.createElement('div');\n",
              "          docLink.innerHTML = docLinkHtml;\n",
              "          element.appendChild(docLink);\n",
              "        }\n",
              "      </script>\n",
              "    </div>\n",
              "  </div>\n",
              "  "
            ],
            "text/plain": [
              "     Store Number                Store Name  \\\n",
              "153      5406-945  2224 Shattuck - Berkeley   \n",
              "154       570-512                Solano Ave   \n",
              "155  17877-164526   Safeway - Berkeley #691   \n",
              "156  19864-202264         Telegraph & Ashby   \n",
              "157     9217-9253           2128 Oxford St.   \n",
              "\n",
              "                               Address      City  Longitude  Latitude  \n",
              "153   2224 Shattuck Avenue Berkeley CA  Berkeley        NaN       NaN  \n",
              "154     1799 Solano Avenue Berkeley CA  Berkeley        NaN       NaN  \n",
              "155    1444 Shattuck Place Berkeley CA  Berkeley        NaN       NaN  \n",
              "156  3001 Telegraph Avenue Berkeley CA  Berkeley        NaN       NaN  \n",
              "157     2128 Oxford Street Berkeley CA  Berkeley        NaN       NaN  "
            ]
          },
          "execution_count": 9,
          "metadata": {},
          "output_type": "execute_result"
        }
      ],
      "source": [
        "# How many rows in each column have missing values?\n",
        "print(starbucks.isnull().sum())\n",
        "\n",
        "# View rows with missing locations\n",
        "rows_with_missing = starbucks[starbucks[\"City\"]==\"Berkeley\"]\n",
        "rows_with_missing"
      ]
    },
    {
      "cell_type": "markdown",
      "metadata": {
        "id": "ywrOXyg_Ruvu"
      },
      "source": [
        "Use the code cell below to fill in these values with the Nominatim geocoder.\n",
        "\n",
        "Note that in the tutorial, we used `Nominatim()` (from `geopy.geocoders`) to geocode values, and this is what you can use in your own projects outside of this course.  \n",
        "\n",
        "In this exercise, you will use a slightly different function `Nominatim()` (from `learntools.geospatial.tools`).  This function was imported at the top of the notebook and works identically to the function from GeoPandas.\n",
        "\n",
        "So, in other words, as long as: \n",
        "- you don't change the import statements at the top of the notebook, and \n",
        "- you call the geocoding function as `geocode()` in the code cell below, \n",
        "\n",
        "your code will work as intended!"
      ]
    },
    {
      "cell_type": "code",
      "execution_count": null,
      "metadata": {
        "id": "3CuWB34kRuvw"
      },
      "outputs": [],
      "source": [
        "# Create the geocoder\n",
        "geolocator = Nominatim(user_agent=\"kaggle_learn\")\n",
        "\n",
        "# Your code here\n",
        "for index, row in rows_with_missing.iterrows():\n",
        "    location = geolocator.geocode(row[\"Address\"])\n",
        "    starbucks.loc[index, \"Latitude\"] = location.latitude\n",
        "    starbucks.loc[index, \"Longitude\"] = location.longitude\n",
        "\n",
        "# Check your answer\n",
        "#q_1.check()"
      ]
    },
    {
      "cell_type": "code",
      "execution_count": null,
      "metadata": {
        "id": "ST6EMujdRuvx"
      },
      "outputs": [],
      "source": [
        "# Line below will give you solution code\n",
        "#q_1.solution()"
      ]
    },
    {
      "cell_type": "markdown",
      "metadata": {
        "id": "skPqv0ugRuvy"
      },
      "source": [
        "### 2) View Berkeley locations.\n",
        "\n",
        "Let's take a look at the locations you just found.  Visualize the (latitude, longitude) locations in Berkeley in the OpenStreetMap style. "
      ]
    },
    {
      "cell_type": "code",
      "execution_count": null,
      "metadata": {
        "colab": {
          "base_uri": "https://localhost:8080/",
          "height": 520
        },
        "id": "kGqzyAErRuvy",
        "outputId": "12cad36c-60eb-4469-fc41-ce7b8935d6a4"
      },
      "outputs": [
        {
          "data": {
            "text/html": [
              "\n",
              "        <iframe\n",
              "            width=\"100%\"\n",
              "            height=\"500px\"\n",
              "            src=\"q_2.html\"\n",
              "            frameborder=\"0\"\n",
              "            allowfullscreen\n",
              "            \n",
              "        ></iframe>\n",
              "        "
            ],
            "text/plain": [
              "<IPython.lib.display.IFrame at 0x7ff4c11432b0>"
            ]
          },
          "execution_count": 16,
          "metadata": {},
          "output_type": "execute_result"
        }
      ],
      "source": [
        "# Create a base map\n",
        "m_2 = folium.Map(location=[37.88,-122.26], zoom_start=13)\n",
        "\n",
        "# Your code here: Add a marker for each Berkeley location\n",
        "for i, row in starbucks.loc[starbucks[\"City\"] == \"Berkeley\"].iterrows():\n",
        "    lat = row[\"Latitude\"]\n",
        "    lon = row[\"Longitude\"]\n",
        "    marker = folium.Marker([lon, lat])\n",
        "    marker.add_to(m_2)\n",
        "\n",
        "# Uncomment to see a hint\n",
        "#q_2.a.hint()\n",
        "\n",
        "# Show the map\n",
        "embed_map(m_2, 'q_2.html')"
      ]
    },
    {
      "cell_type": "code",
      "execution_count": null,
      "metadata": {
        "id": "s6D5H0MvRuv0"
      },
      "outputs": [],
      "source": [
        "# Get credit for your work after you have created a map\n",
        "q_2.a.check()\n",
        "\n",
        "# Uncomment to see our solution (your code may look different!)\n",
        "#q_2.a.solution()"
      ]
    },
    {
      "cell_type": "markdown",
      "metadata": {
        "id": "jKfX6yUsRuv0"
      },
      "source": [
        "Considering only the five locations in Berkeley, how many of the (latitude, longitude) locations seem potentially correct (are located in the correct city)?"
      ]
    },
    {
      "cell_type": "code",
      "execution_count": null,
      "metadata": {
        "id": "bf1SvBbVRuv1"
      },
      "outputs": [],
      "source": [
        "# View the solution (Run this code cell to receive credit!)\n",
        "q_2.b.solution()"
      ]
    },
    {
      "cell_type": "markdown",
      "metadata": {
        "id": "rDOOaeMxRuv2"
      },
      "source": [
        "### 3) Consolidate your data.\n",
        "\n",
        "Run the code below to load a GeoDataFrame `CA_counties` containing the name, area (in square kilometers), and a unique id (in the \"GEOID\" column) for each county in the state of California.  The \"geometry\" column contains a polygon with county boundaries."
      ]
    },
    {
      "cell_type": "code",
      "execution_count": null,
      "metadata": {
        "colab": {
          "base_uri": "https://localhost:8080/",
          "height": 262
        },
        "id": "j6lvLpdBRuv3",
        "outputId": "0d1105f7-653f-4cba-86f4-06a17d567357"
      },
      "outputs": [
        {
          "name": "stderr",
          "output_type": "stream",
          "text": [
            "/usr/local/lib/python3.10/dist-packages/pyproj/crs/crs.py:141: FutureWarning: '+init=<authority>:<code>' syntax is deprecated. '<authority>:<code>' is the preferred initialization method. When making the change, be mindful of axis order changes: https://pyproj4.github.io/pyproj/stable/gotchas.html#axis-order-changes-in-proj-6\n",
            "  in_crs_string = _prepare_from_proj_string(in_crs_string)\n"
          ]
        },
        {
          "data": {
            "text/html": [
              "\n",
              "  <div id=\"df-a9bbd58d-c5c2-4325-8817-6cf31c53e8a2\">\n",
              "    <div class=\"colab-df-container\">\n",
              "      <div>\n",
              "<style scoped>\n",
              "    .dataframe tbody tr th:only-of-type {\n",
              "        vertical-align: middle;\n",
              "    }\n",
              "\n",
              "    .dataframe tbody tr th {\n",
              "        vertical-align: top;\n",
              "    }\n",
              "\n",
              "    .dataframe thead th {\n",
              "        text-align: right;\n",
              "    }\n",
              "</style>\n",
              "<table border=\"1\" class=\"dataframe\">\n",
              "  <thead>\n",
              "    <tr style=\"text-align: right;\">\n",
              "      <th></th>\n",
              "      <th>GEOID</th>\n",
              "      <th>name</th>\n",
              "      <th>area_sqkm</th>\n",
              "      <th>geometry</th>\n",
              "    </tr>\n",
              "  </thead>\n",
              "  <tbody>\n",
              "    <tr>\n",
              "      <th>0</th>\n",
              "      <td>6091</td>\n",
              "      <td>Sierra County</td>\n",
              "      <td>2491.995494</td>\n",
              "      <td>POLYGON ((-120.65560 39.69357, -120.65554 39.6...</td>\n",
              "    </tr>\n",
              "    <tr>\n",
              "      <th>1</th>\n",
              "      <td>6067</td>\n",
              "      <td>Sacramento County</td>\n",
              "      <td>2575.258262</td>\n",
              "      <td>POLYGON ((-121.18858 38.71431, -121.18732 38.7...</td>\n",
              "    </tr>\n",
              "    <tr>\n",
              "      <th>2</th>\n",
              "      <td>6083</td>\n",
              "      <td>Santa Barbara County</td>\n",
              "      <td>9813.817958</td>\n",
              "      <td>MULTIPOLYGON (((-120.58191 34.09856, -120.5822...</td>\n",
              "    </tr>\n",
              "    <tr>\n",
              "      <th>3</th>\n",
              "      <td>6009</td>\n",
              "      <td>Calaveras County</td>\n",
              "      <td>2685.626726</td>\n",
              "      <td>POLYGON ((-120.63095 38.34111, -120.63058 38.3...</td>\n",
              "    </tr>\n",
              "    <tr>\n",
              "      <th>4</th>\n",
              "      <td>6111</td>\n",
              "      <td>Ventura County</td>\n",
              "      <td>5719.321379</td>\n",
              "      <td>MULTIPOLYGON (((-119.63631 33.27304, -119.6360...</td>\n",
              "    </tr>\n",
              "  </tbody>\n",
              "</table>\n",
              "</div>\n",
              "      <button class=\"colab-df-convert\" onclick=\"convertToInteractive('df-a9bbd58d-c5c2-4325-8817-6cf31c53e8a2')\"\n",
              "              title=\"Convert this dataframe to an interactive table.\"\n",
              "              style=\"display:none;\">\n",
              "        \n",
              "  <svg xmlns=\"http://www.w3.org/2000/svg\" height=\"24px\"viewBox=\"0 0 24 24\"\n",
              "       width=\"24px\">\n",
              "    <path d=\"M0 0h24v24H0V0z\" fill=\"none\"/>\n",
              "    <path d=\"M18.56 5.44l.94 2.06.94-2.06 2.06-.94-2.06-.94-.94-2.06-.94 2.06-2.06.94zm-11 1L8.5 8.5l.94-2.06 2.06-.94-2.06-.94L8.5 2.5l-.94 2.06-2.06.94zm10 10l.94 2.06.94-2.06 2.06-.94-2.06-.94-.94-2.06-.94 2.06-2.06.94z\"/><path d=\"M17.41 7.96l-1.37-1.37c-.4-.4-.92-.59-1.43-.59-.52 0-1.04.2-1.43.59L10.3 9.45l-7.72 7.72c-.78.78-.78 2.05 0 2.83L4 21.41c.39.39.9.59 1.41.59.51 0 1.02-.2 1.41-.59l7.78-7.78 2.81-2.81c.8-.78.8-2.07 0-2.86zM5.41 20L4 18.59l7.72-7.72 1.47 1.35L5.41 20z\"/>\n",
              "  </svg>\n",
              "      </button>\n",
              "      \n",
              "  <style>\n",
              "    .colab-df-container {\n",
              "      display:flex;\n",
              "      flex-wrap:wrap;\n",
              "      gap: 12px;\n",
              "    }\n",
              "\n",
              "    .colab-df-convert {\n",
              "      background-color: #E8F0FE;\n",
              "      border: none;\n",
              "      border-radius: 50%;\n",
              "      cursor: pointer;\n",
              "      display: none;\n",
              "      fill: #1967D2;\n",
              "      height: 32px;\n",
              "      padding: 0 0 0 0;\n",
              "      width: 32px;\n",
              "    }\n",
              "\n",
              "    .colab-df-convert:hover {\n",
              "      background-color: #E2EBFA;\n",
              "      box-shadow: 0px 1px 2px rgba(60, 64, 67, 0.3), 0px 1px 3px 1px rgba(60, 64, 67, 0.15);\n",
              "      fill: #174EA6;\n",
              "    }\n",
              "\n",
              "    [theme=dark] .colab-df-convert {\n",
              "      background-color: #3B4455;\n",
              "      fill: #D2E3FC;\n",
              "    }\n",
              "\n",
              "    [theme=dark] .colab-df-convert:hover {\n",
              "      background-color: #434B5C;\n",
              "      box-shadow: 0px 1px 3px 1px rgba(0, 0, 0, 0.15);\n",
              "      filter: drop-shadow(0px 1px 2px rgba(0, 0, 0, 0.3));\n",
              "      fill: #FFFFFF;\n",
              "    }\n",
              "  </style>\n",
              "\n",
              "      <script>\n",
              "        const buttonEl =\n",
              "          document.querySelector('#df-a9bbd58d-c5c2-4325-8817-6cf31c53e8a2 button.colab-df-convert');\n",
              "        buttonEl.style.display =\n",
              "          google.colab.kernel.accessAllowed ? 'block' : 'none';\n",
              "\n",
              "        async function convertToInteractive(key) {\n",
              "          const element = document.querySelector('#df-a9bbd58d-c5c2-4325-8817-6cf31c53e8a2');\n",
              "          const dataTable =\n",
              "            await google.colab.kernel.invokeFunction('convertToInteractive',\n",
              "                                                     [key], {});\n",
              "          if (!dataTable) return;\n",
              "\n",
              "          const docLinkHtml = 'Like what you see? Visit the ' +\n",
              "            '<a target=\"_blank\" href=https://colab.research.google.com/notebooks/data_table.ipynb>data table notebook</a>'\n",
              "            + ' to learn more about interactive tables.';\n",
              "          element.innerHTML = '';\n",
              "          dataTable['output_type'] = 'display_data';\n",
              "          await google.colab.output.renderOutput(dataTable, element);\n",
              "          const docLink = document.createElement('div');\n",
              "          docLink.innerHTML = docLinkHtml;\n",
              "          element.appendChild(docLink);\n",
              "        }\n",
              "      </script>\n",
              "    </div>\n",
              "  </div>\n",
              "  "
            ],
            "text/plain": [
              "   GEOID                  name    area_sqkm  \\\n",
              "0   6091         Sierra County  2491.995494   \n",
              "1   6067     Sacramento County  2575.258262   \n",
              "2   6083  Santa Barbara County  9813.817958   \n",
              "3   6009      Calaveras County  2685.626726   \n",
              "4   6111        Ventura County  5719.321379   \n",
              "\n",
              "                                            geometry  \n",
              "0  POLYGON ((-120.65560 39.69357, -120.65554 39.6...  \n",
              "1  POLYGON ((-121.18858 38.71431, -121.18732 38.7...  \n",
              "2  MULTIPOLYGON (((-120.58191 34.09856, -120.5822...  \n",
              "3  POLYGON ((-120.63095 38.34111, -120.63058 38.3...  \n",
              "4  MULTIPOLYGON (((-119.63631 33.27304, -119.6360...  "
            ]
          },
          "execution_count": 19,
          "metadata": {},
          "output_type": "execute_result"
        }
      ],
      "source": [
        "#CA_counties = gpd.read_file(\"../input/geospatial-learn-course-data/CA_county_boundaries/CA_county_boundaries/CA_county_boundaries.shp\")\n",
        "CA_counties = gpd.read_file(\"/content/drive/MyDrive/data_mining/CA_county_boundaries/CA_county_boundaries/CA_county_boundaries.shp\")\n",
        "CA_counties.crs = {'init': 'epsg:4326'}\n",
        "CA_counties.head()"
      ]
    },
    {
      "cell_type": "markdown",
      "metadata": {
        "id": "pl_pSKebRuv3"
      },
      "source": [
        "Next, we create three DataFrames:\n",
        "- `CA_pop` contains an estimate of the population of each county.\n",
        "- `CA_high_earners` contains the number of households with an income of at least $150,000 per year.\n",
        "- `CA_median_age` contains the median age for each county."
      ]
    },
    {
      "cell_type": "code",
      "execution_count": null,
      "metadata": {
        "id": "Lg5GWMe5Ruv4"
      },
      "outputs": [],
      "source": [
        "CA_pop = pd.read_csv(\"/content/drive/MyDrive/data_mining/CA_county_population.csv\", index_col=\"GEOID\")\n",
        "CA_high_earners = pd.read_csv(\"/content/drive/MyDrive/data_mining/CA_county_high_earners.csv\", index_col=\"GEOID\")\n",
        "CA_median_age = pd.read_csv(\"/content/drive/MyDrive/data_mining/CA_county_median_age.csv\", index_col=\"GEOID\")"
      ]
    },
    {
      "cell_type": "markdown",
      "metadata": {
        "id": "NVbOoSoQRuv4"
      },
      "source": [
        "Use the next code cell to join the `CA_counties` GeoDataFrame with `CA_pop`, `CA_high_earners`, and `CA_median_age`.\n",
        "\n",
        "Name the resultant GeoDataFrame `CA_stats`, and make sure it has 8 columns: \"GEOID\", \"name\", \"area_sqkm\", \"geometry\", \"population\", \"high_earners\", and \"median_age\".  "
      ]
    },
    {
      "cell_type": "code",
      "execution_count": null,
      "metadata": {
        "id": "KNhUvZN3Ruv5"
      },
      "outputs": [],
      "source": [
        "# Your code here\n",
        "# Join CA_counties with CA_pop, CA_high_earners, and CA_median_age\n",
        "CA_stats = CA_counties.join(CA_pop, on=\"GEOID\").join(CA_high_earners, on=\"GEOID\").join(CA_median_age, on=\"GEOID\")\n",
        "\n",
        "# Check the columns of CA_stats\n",
        "CA_stats = CA_stats[[\"GEOID\", \"name\", \"area_sqkm\", \"geometry\", \"population\", \"high_earners\", \"median_age\"]]\n",
        "\n",
        "# Check your answer\n",
        "#q_3.check()"
      ]
    },
    {
      "cell_type": "code",
      "execution_count": null,
      "metadata": {
        "id": "Be_IV29ARuv5"
      },
      "outputs": [],
      "source": [
        "# Lines below will give you a hint or solution code\n",
        "#q_3.hint()\n",
        "#q_3.solution()"
      ]
    },
    {
      "cell_type": "markdown",
      "metadata": {
        "id": "WtC2aJhNRuv6"
      },
      "source": [
        "Now that we have all of the data in one place, it's much easier to calculate statistics that use a combination of columns.  Run the next code cell to create a \"density\" column with the population density."
      ]
    },
    {
      "cell_type": "code",
      "execution_count": null,
      "metadata": {
        "id": "OJ3zeh6rRuv6"
      },
      "outputs": [],
      "source": [
        "CA_stats[\"density\"] = CA_stats[\"population\"] / CA_stats[\"area_sqkm\"]"
      ]
    },
    {
      "cell_type": "markdown",
      "metadata": {
        "id": "ednHuv0lRuv7"
      },
      "source": [
        "### 4) Which counties look promising?\n",
        "\n",
        "Collapsing all of the information into a single GeoDataFrame also makes it much easier to select counties that meet specific criteria.\n",
        "\n",
        "Use the next code cell to create a GeoDataFrame `sel_counties` that contains a subset of the rows (and all of the columns) from the `CA_stats` GeoDataFrame.  In particular, you should select counties where:\n",
        "- there are at least 100,000 households making \\$150,000 per year,\n",
        "- the median age is less than 38.5, and\n",
        "- the density of inhabitants is at least 285 (per square kilometer).\n",
        "\n",
        "Additionally, selected counties should satisfy at least one of the following criteria:\n",
        "- there are at least 500,000 households making \\$150,000 per year,\n",
        "- the median age is less than 35.5, or\n",
        "- the density of inhabitants is at least 1400 (per square kilometer)."
      ]
    },
    {
      "cell_type": "code",
      "execution_count": null,
      "metadata": {
        "id": "DgDy6uKCRuv9"
      },
      "outputs": [],
      "source": [
        "# Your code here\n",
        "sel_counties = CA_stats[(CA_stats[\"high_earners\"] >= 100000) & (CA_stats[\"median_age\"] < 38.5) & (CA_stats[\"density\"] >= 285) |\n",
        "                        (CA_stats[\"high_earners\"] >= 500000) | (CA_stats[\"median_age\"] < 35.5) | (CA_stats[\"density\"] >= 1400)]\n",
        "\n",
        "# Check your answer\n",
        "#q_4.check()"
      ]
    },
    {
      "cell_type": "code",
      "execution_count": null,
      "metadata": {
        "id": "Sbj8aK6_Ruv-"
      },
      "outputs": [],
      "source": [
        "# Lines below will give you a hint or solution code\n",
        "#q_4.hint()\n",
        "#q_4.solution()"
      ]
    },
    {
      "cell_type": "markdown",
      "metadata": {
        "id": "UjkMCuO0Ruv_"
      },
      "source": [
        "### 5) How many stores did you identify?\n",
        "\n",
        "When looking for the next Starbucks Reserve Roastery location, you'd like to consider all of the stores within the counties that you selected.  So, how many stores are within the selected counties?\n",
        "\n",
        "To prepare to answer this question, run the next code cell to create a GeoDataFrame `starbucks_gdf` with all of the starbucks locations."
      ]
    },
    {
      "cell_type": "code",
      "execution_count": null,
      "metadata": {
        "colab": {
          "base_uri": "https://localhost:8080/"
        },
        "id": "pHzFzKOZRuv_",
        "outputId": "f73f38c8-78e6-40dc-9009-99698dfc4de8"
      },
      "outputs": [
        {
          "name": "stderr",
          "output_type": "stream",
          "text": [
            "/usr/local/lib/python3.10/dist-packages/pyproj/crs/crs.py:141: FutureWarning: '+init=<authority>:<code>' syntax is deprecated. '<authority>:<code>' is the preferred initialization method. When making the change, be mindful of axis order changes: https://pyproj4.github.io/pyproj/stable/gotchas.html#axis-order-changes-in-proj-6\n",
            "  in_crs_string = _prepare_from_proj_string(in_crs_string)\n"
          ]
        }
      ],
      "source": [
        "starbucks_gdf = gpd.GeoDataFrame(starbucks, geometry=gpd.points_from_xy(starbucks.Longitude, starbucks.Latitude))\n",
        "starbucks_gdf.crs = {'init': 'epsg:4326'}"
      ]
    },
    {
      "cell_type": "markdown",
      "metadata": {
        "id": "Jg_CjILARuwA"
      },
      "source": [
        "So, how many stores are in the counties you selected?"
      ]
    },
    {
      "cell_type": "code",
      "execution_count": null,
      "metadata": {
        "id": "upgf7avERuwB"
      },
      "outputs": [],
      "source": [
        "# Fill in your answer\n",
        "# 선택한 county에 있는 Starbucks 매장 수 계산\n",
        "num_stores = len(starbucks_gdf[starbucks_gdf.within(sel_counties.unary_union)])\n",
        "\n",
        "# Check your answer\n",
        "#q_5.check()"
      ]
    },
    {
      "cell_type": "code",
      "execution_count": null,
      "metadata": {
        "id": "RT_5eXVRRuwC"
      },
      "outputs": [],
      "source": [
        "# Lines below will give you a hint or solution code\n",
        "#q_5.hint()\n",
        "#q_5.solution()"
      ]
    },
    {
      "cell_type": "markdown",
      "metadata": {
        "id": "5njsll7YRuwC"
      },
      "source": [
        "### 6) Visualize the store locations.\n",
        "\n",
        "Create a map that shows the locations of the stores that you identified in the previous question."
      ]
    },
    {
      "cell_type": "code",
      "execution_count": null,
      "metadata": {
        "colab": {
          "base_uri": "https://localhost:8080/",
          "height": 520
        },
        "id": "cKtJ9-WlRuwD",
        "outputId": "70c28bd5-7acc-4126-94f3-d5d630704ce2"
      },
      "outputs": [
        {
          "data": {
            "text/html": [
              "\n",
              "        <iframe\n",
              "            width=\"100%\"\n",
              "            height=\"500px\"\n",
              "            src=\"q_6.html\"\n",
              "            frameborder=\"0\"\n",
              "            allowfullscreen\n",
              "            \n",
              "        ></iframe>\n",
              "        "
            ],
            "text/plain": [
              "<IPython.lib.display.IFrame at 0x7ff4be897010>"
            ]
          },
          "execution_count": 30,
          "metadata": {},
          "output_type": "execute_result"
        }
      ],
      "source": [
        "# Create a base map\n",
        "m_6 = folium.Map(location=[37,-120], zoom_start=6)\n",
        "\n",
        "# Your code here: show selected store locations\n",
        "# Selected store locations\n",
        "selected_stores = starbucks_gdf[starbucks_gdf.within(sel_counties.unary_union)]\n",
        "\n",
        "# Create a marker for each store location\n",
        "for i, row in starbucks.loc[starbucks[\"City\"] == \"Berkeley\"].iterrows():\n",
        "    lat = row[\"Latitude\"]\n",
        "    lon = row[\"Longitude\"]\n",
        "    marker = folium.Marker([lon, lat])\n",
        "    marker.add_to(m_2)\n",
        "\n",
        "# Uncomment to see a hint\n",
        "#q_6.hint()\n",
        "\n",
        "# Show the map\n",
        "embed_map(m_6, 'q_6.html')"
      ]
    },
    {
      "cell_type": "code",
      "execution_count": null,
      "metadata": {
        "id": "l_Jo3ODiRuwD"
      },
      "outputs": [],
      "source": [
        "# Get credit for your work after you have created a map\n",
        "q_6.check()\n",
        "\n",
        "# Uncomment to see our solution (your code may look different!)\n",
        "#q_6.solution()"
      ]
    },
    {
      "cell_type": "markdown",
      "metadata": {
        "id": "SlPIoY88RuwE"
      },
      "source": [
        "# Keep going\n",
        "\n",
        "Learn about how **[proximity analysis](https://www.kaggle.com/alexisbcook/proximity-analysis)** can help you to understand the relationships between points on a map."
      ]
    },
    {
      "cell_type": "markdown",
      "metadata": {
        "id": "ubIIIllTRuwE"
      },
      "source": [
        "---\n",
        "\n",
        "\n",
        "\n",
        "\n",
        "*Have questions or comments? Visit the [course discussion forum](https://www.kaggle.com/learn/geospatial-analysis/discussion) to chat with other learners.*"
      ]
    }
  ],
  "metadata": {
    "colab": {
      "provenance": []
    },
    "kernelspec": {
      "display_name": "Python 3",
      "language": "python",
      "name": "python3"
    },
    "language_info": {
      "codemirror_mode": {
        "name": "ipython",
        "version": 3
      },
      "file_extension": ".py",
      "mimetype": "text/x-python",
      "name": "python",
      "nbconvert_exporter": "python",
      "pygments_lexer": "ipython3",
      "version": "3.6.5"
    }
  },
  "nbformat": 4,
  "nbformat_minor": 0
}
