{
  "cells": [
    {
      "attachments": {},
      "cell_type": "markdown",
      "metadata": {},
      "source": [
        "---\n",
        "title: \"Exercise: Your First Map\"\n",
        "author: \"Hyeonho Jeong\"\n",
        "date: \"2023-04-28\"\n",
        "categories: [code]\n",
        "image: \"image.png\"\n",
        "---\n",
        "\n",
        "Exercise: Your First Map 입니다."
      ]
    },
    {
      "cell_type": "code",
      "execution_count": null,
      "metadata": {
        "id": "SfObukZlj8t5"
      },
      "outputs": [],
      "source": [
        "import geopandas as gpd\n",
        "\n",
        "from learntools.core import binder\n",
        "binder.bind(globals())\n",
        "from learntools.geospatial.ex1 import *"
      ]
    },
    {
      "cell_type": "code",
      "execution_count": null,
      "metadata": {
        "id": "7Zdn-Sp5aiPX"
      },
      "outputs": [],
      "source": [
        "!pip install geopandas"
      ]
    },
    {
      "cell_type": "code",
      "execution_count": null,
      "metadata": {
        "id": "-9MGJfrelE5j"
      },
      "outputs": [],
      "source": [
        "import geopandas as gpd"
      ]
    },
    {
      "cell_type": "code",
      "execution_count": null,
      "metadata": {
        "id": "i9ynA09ec2t6"
      },
      "outputs": [],
      "source": [
        "import matplotlib.pyplot as plt"
      ]
    },
    {
      "cell_type": "markdown",
      "metadata": {
        "id": "F3I_8vxNj8t7"
      },
      "source": [
        "### 1) Get the data.\n",
        "\n",
        "Use the next cell to load the shapefile located at `loans_filepath` to create a GeoDataFrame `world_loans`.  "
      ]
    },
    {
      "cell_type": "code",
      "execution_count": null,
      "metadata": {
        "id": "xRtkvpi2j8t8"
      },
      "outputs": [],
      "source": [
        "loans_filepath = \"../input/geospatial-learn-course-data/kiva_loans/kiva_loans/kiva_loans.shp\"\n",
        "#loans_filepath = gpd.read_file(\"/content/drive/MyDrive/data_mining/data/kiva_loans/kiva_loans/kiva_loans.shp\")\n",
        "\n",
        "# Your code here: Load the data\n",
        "world_loans = gpd.read_file(loans_filepath)\n",
        "\n",
        "#world_loans.head()"
      ]
    },
    {
      "cell_type": "code",
      "execution_count": null,
      "metadata": {
        "id": "qNMt2DPYj8t8"
      },
      "outputs": [],
      "source": [
        "# Lines below will give you a hint or solution code\n",
        "#q_1.hint()\n",
        "#q_1.solution()"
      ]
    },
    {
      "cell_type": "markdown",
      "metadata": {
        "id": "IrkD-22Yj8t9"
      },
      "source": [
        "### 2) Plot the data.\n",
        "\n",
        "Run the next code cell without changes to load a GeoDataFrame `world` containing country boundaries."
      ]
    },
    {
      "cell_type": "code",
      "execution_count": null,
      "metadata": {
        "colab": {
          "base_uri": "https://localhost:8080/",
          "height": 206
        },
        "id": "YFC79H34j8t9",
        "outputId": "7e374eb5-f436-4d36-e4ab-e82dd526323e"
      },
      "outputs": [
        {
          "data": {
            "text/html": [
              "\n",
              "  <div id=\"df-2aaf4c37-507a-4d63-84e3-916609d6b7ec\">\n",
              "    <div class=\"colab-df-container\">\n",
              "      <div>\n",
              "<style scoped>\n",
              "    .dataframe tbody tr th:only-of-type {\n",
              "        vertical-align: middle;\n",
              "    }\n",
              "\n",
              "    .dataframe tbody tr th {\n",
              "        vertical-align: top;\n",
              "    }\n",
              "\n",
              "    .dataframe thead th {\n",
              "        text-align: right;\n",
              "    }\n",
              "</style>\n",
              "<table border=\"1\" class=\"dataframe\">\n",
              "  <thead>\n",
              "    <tr style=\"text-align: right;\">\n",
              "      <th></th>\n",
              "      <th>pop_est</th>\n",
              "      <th>continent</th>\n",
              "      <th>name</th>\n",
              "      <th>iso_a3</th>\n",
              "      <th>gdp_md_est</th>\n",
              "      <th>geometry</th>\n",
              "    </tr>\n",
              "  </thead>\n",
              "  <tbody>\n",
              "    <tr>\n",
              "      <th>0</th>\n",
              "      <td>889953.0</td>\n",
              "      <td>Oceania</td>\n",
              "      <td>Fiji</td>\n",
              "      <td>FJI</td>\n",
              "      <td>5496</td>\n",
              "      <td>MULTIPOLYGON (((180.00000 -16.06713, 180.00000...</td>\n",
              "    </tr>\n",
              "    <tr>\n",
              "      <th>1</th>\n",
              "      <td>58005463.0</td>\n",
              "      <td>Africa</td>\n",
              "      <td>Tanzania</td>\n",
              "      <td>TZA</td>\n",
              "      <td>63177</td>\n",
              "      <td>POLYGON ((33.90371 -0.95000, 34.07262 -1.05982...</td>\n",
              "    </tr>\n",
              "    <tr>\n",
              "      <th>2</th>\n",
              "      <td>603253.0</td>\n",
              "      <td>Africa</td>\n",
              "      <td>W. Sahara</td>\n",
              "      <td>ESH</td>\n",
              "      <td>907</td>\n",
              "      <td>POLYGON ((-8.66559 27.65643, -8.66512 27.58948...</td>\n",
              "    </tr>\n",
              "    <tr>\n",
              "      <th>3</th>\n",
              "      <td>37589262.0</td>\n",
              "      <td>North America</td>\n",
              "      <td>Canada</td>\n",
              "      <td>CAN</td>\n",
              "      <td>1736425</td>\n",
              "      <td>MULTIPOLYGON (((-122.84000 49.00000, -122.9742...</td>\n",
              "    </tr>\n",
              "    <tr>\n",
              "      <th>4</th>\n",
              "      <td>328239523.0</td>\n",
              "      <td>North America</td>\n",
              "      <td>United States of America</td>\n",
              "      <td>USA</td>\n",
              "      <td>21433226</td>\n",
              "      <td>MULTIPOLYGON (((-122.84000 49.00000, -120.0000...</td>\n",
              "    </tr>\n",
              "  </tbody>\n",
              "</table>\n",
              "</div>\n",
              "      <button class=\"colab-df-convert\" onclick=\"convertToInteractive('df-2aaf4c37-507a-4d63-84e3-916609d6b7ec')\"\n",
              "              title=\"Convert this dataframe to an interactive table.\"\n",
              "              style=\"display:none;\">\n",
              "        \n",
              "  <svg xmlns=\"http://www.w3.org/2000/svg\" height=\"24px\"viewBox=\"0 0 24 24\"\n",
              "       width=\"24px\">\n",
              "    <path d=\"M0 0h24v24H0V0z\" fill=\"none\"/>\n",
              "    <path d=\"M18.56 5.44l.94 2.06.94-2.06 2.06-.94-2.06-.94-.94-2.06-.94 2.06-2.06.94zm-11 1L8.5 8.5l.94-2.06 2.06-.94-2.06-.94L8.5 2.5l-.94 2.06-2.06.94zm10 10l.94 2.06.94-2.06 2.06-.94-2.06-.94-.94-2.06-.94 2.06-2.06.94z\"/><path d=\"M17.41 7.96l-1.37-1.37c-.4-.4-.92-.59-1.43-.59-.52 0-1.04.2-1.43.59L10.3 9.45l-7.72 7.72c-.78.78-.78 2.05 0 2.83L4 21.41c.39.39.9.59 1.41.59.51 0 1.02-.2 1.41-.59l7.78-7.78 2.81-2.81c.8-.78.8-2.07 0-2.86zM5.41 20L4 18.59l7.72-7.72 1.47 1.35L5.41 20z\"/>\n",
              "  </svg>\n",
              "      </button>\n",
              "      \n",
              "  <style>\n",
              "    .colab-df-container {\n",
              "      display:flex;\n",
              "      flex-wrap:wrap;\n",
              "      gap: 12px;\n",
              "    }\n",
              "\n",
              "    .colab-df-convert {\n",
              "      background-color: #E8F0FE;\n",
              "      border: none;\n",
              "      border-radius: 50%;\n",
              "      cursor: pointer;\n",
              "      display: none;\n",
              "      fill: #1967D2;\n",
              "      height: 32px;\n",
              "      padding: 0 0 0 0;\n",
              "      width: 32px;\n",
              "    }\n",
              "\n",
              "    .colab-df-convert:hover {\n",
              "      background-color: #E2EBFA;\n",
              "      box-shadow: 0px 1px 2px rgba(60, 64, 67, 0.3), 0px 1px 3px 1px rgba(60, 64, 67, 0.15);\n",
              "      fill: #174EA6;\n",
              "    }\n",
              "\n",
              "    [theme=dark] .colab-df-convert {\n",
              "      background-color: #3B4455;\n",
              "      fill: #D2E3FC;\n",
              "    }\n",
              "\n",
              "    [theme=dark] .colab-df-convert:hover {\n",
              "      background-color: #434B5C;\n",
              "      box-shadow: 0px 1px 3px 1px rgba(0, 0, 0, 0.15);\n",
              "      filter: drop-shadow(0px 1px 2px rgba(0, 0, 0, 0.3));\n",
              "      fill: #FFFFFF;\n",
              "    }\n",
              "  </style>\n",
              "\n",
              "      <script>\n",
              "        const buttonEl =\n",
              "          document.querySelector('#df-2aaf4c37-507a-4d63-84e3-916609d6b7ec button.colab-df-convert');\n",
              "        buttonEl.style.display =\n",
              "          google.colab.kernel.accessAllowed ? 'block' : 'none';\n",
              "\n",
              "        async function convertToInteractive(key) {\n",
              "          const element = document.querySelector('#df-2aaf4c37-507a-4d63-84e3-916609d6b7ec');\n",
              "          const dataTable =\n",
              "            await google.colab.kernel.invokeFunction('convertToInteractive',\n",
              "                                                     [key], {});\n",
              "          if (!dataTable) return;\n",
              "\n",
              "          const docLinkHtml = 'Like what you see? Visit the ' +\n",
              "            '<a target=\"_blank\" href=https://colab.research.google.com/notebooks/data_table.ipynb>data table notebook</a>'\n",
              "            + ' to learn more about interactive tables.';\n",
              "          element.innerHTML = '';\n",
              "          dataTable['output_type'] = 'display_data';\n",
              "          await google.colab.output.renderOutput(dataTable, element);\n",
              "          const docLink = document.createElement('div');\n",
              "          docLink.innerHTML = docLinkHtml;\n",
              "          element.appendChild(docLink);\n",
              "        }\n",
              "      </script>\n",
              "    </div>\n",
              "  </div>\n",
              "  "
            ],
            "text/plain": [
              "       pop_est      continent                      name iso_a3  gdp_md_est  \\\n",
              "0     889953.0        Oceania                      Fiji    FJI        5496   \n",
              "1   58005463.0         Africa                  Tanzania    TZA       63177   \n",
              "2     603253.0         Africa                 W. Sahara    ESH         907   \n",
              "3   37589262.0  North America                    Canada    CAN     1736425   \n",
              "4  328239523.0  North America  United States of America    USA    21433226   \n",
              "\n",
              "                                            geometry  \n",
              "0  MULTIPOLYGON (((180.00000 -16.06713, 180.00000...  \n",
              "1  POLYGON ((33.90371 -0.95000, 34.07262 -1.05982...  \n",
              "2  POLYGON ((-8.66559 27.65643, -8.66512 27.58948...  \n",
              "3  MULTIPOLYGON (((-122.84000 49.00000, -122.9742...  \n",
              "4  MULTIPOLYGON (((-122.84000 49.00000, -120.0000...  "
            ]
          },
          "execution_count": 13,
          "metadata": {},
          "output_type": "execute_result"
        }
      ],
      "source": [
        "# This dataset is provided in GeoPandas\n",
        "world_filepath = gpd.datasets.get_path('naturalearth_lowres')\n",
        "world = gpd.read_file(world_filepath)\n",
        "world.head()"
      ]
    },
    {
      "cell_type": "markdown",
      "metadata": {
        "id": "QvsjJZeuj8t-"
      },
      "source": [
        "Use the `world` and `world_loans` GeoDataFrames to visualize Kiva loan locations across the world."
      ]
    },
    {
      "cell_type": "code",
      "execution_count": null,
      "metadata": {
        "id": "O_FyZ442j8t-"
      },
      "outputs": [],
      "source": [
        "# Load the data\n",
        "loans_filepath = \"../input/geospatial-learn-course-data/kiva_loans/kiva_loans/kiva_loans.shp\"\n",
        "world_loans = gpd.read_file(loans_filepath)\n",
        "world_filepath = gpd.datasets.get_path('naturalearth_lowres')\n",
        "world = gpd.read_file(world_filepath)\n",
        "\n",
        "# Plot the data\n",
        "fig, ax = plt.subplots(figsize=(12,8))\n",
        "world.plot(ax=ax, alpha=0.4, color='grey')\n",
        "world_loans.plot(ax=ax, markersize=1, color='blue', marker='o')\n",
        "plt.title(\"Kiva Loan Locations Worldwide\")\n",
        "plt.show()"
      ]
    },
    {
      "cell_type": "markdown",
      "metadata": {
        "id": "6DWI6eJsj8t_"
      },
      "source": [
        "### 3) Select loans based in the Philippines.\n",
        "\n",
        "Next, you'll focus on loans that are based in the Philippines.  Use the next code cell to create a GeoDataFrame `PHL_loans` which contains all rows from `world_loans` with loans that are based in the Philippines."
      ]
    },
    {
      "cell_type": "code",
      "execution_count": null,
      "metadata": {
        "id": "ms98KiHaj8t_"
      },
      "outputs": [],
      "source": [
        "# Your code here\n",
        "PHL_loans = world_loans[world_loans['country']=='Philippines']\n"
      ]
    },
    {
      "cell_type": "markdown",
      "metadata": {
        "id": "IFxD7tm5j8uA"
      },
      "source": [
        "### 4) Understand loans in the Philippines.\n",
        "\n",
        "Run the next code cell without changes to load a GeoDataFrame `PHL` containing boundaries for all islands in the Philippines."
      ]
    },
    {
      "cell_type": "code",
      "execution_count": null,
      "metadata": {
        "id": "JQ1Lx_RDj8uA"
      },
      "outputs": [],
      "source": [
        "# Load a KML file containing island boundaries\n",
        "gpd.io.file.fiona.drvsupport.supported_drivers['KML'] = 'rw'\n",
        "PHL = gpd.read_file(\"../input/geospatial-learn-course-data/Philippines_AL258.kml\", driver='KML')\n",
        "PHL.head()"
      ]
    },
    {
      "cell_type": "markdown",
      "metadata": {
        "id": "YK41IFSEj8uA"
      },
      "source": [
        "Use the `PHL` and `PHL_loans` GeoDataFrames to visualize loans in the Philippines."
      ]
    },
    {
      "cell_type": "code",
      "execution_count": null,
      "metadata": {
        "id": "JHBqOztXj8uA"
      },
      "outputs": [],
      "source": [
        "# Your code here\n",
        "# Create a figure with size (12,8)\n",
        "fig, ax = plt.subplots(figsize=(12,8))\n",
        "\n",
        "# Plot Philippines map\n",
        "PHL.plot(ax=ax, alpha=0.4, color='grey')\n",
        "\n",
        "# Plot loans in the Philippines\n",
        "PHL_loans.plot(ax=ax, markersize=1, color='blue', marker='o')\n",
        "\n",
        "# Add title\n",
        "ax.set_title('Kiva Loans in the Philippines', fontsize=20)\n",
        "\n",
        "# Show the plot\n",
        "plt.show()"
      ]
    },
    {
      "cell_type": "markdown",
      "metadata": {
        "id": "f3Sp5cedj8uB"
      },
      "source": [
        "Can you identify any islands where it might be useful to recruit new Field Partners?  Do any islands currently look outside of Kiva's reach?\n",
        "\n",
        "You might find [this map](https://bit.ly/2U2G7x7) useful to answer the question."
      ]
    },
    {
      "cell_type": "markdown",
      "metadata": {
        "id": "v9UC4DNwj8uB"
      },
      "source": [
        "# Keep going\n",
        "\n",
        "Continue to learn about **[coordinate reference systems](https://www.kaggle.com/alexisbcook/coordinate-reference-systems)**."
      ]
    },
    {
      "cell_type": "markdown",
      "metadata": {
        "id": "J8bn5plIj8uB"
      },
      "source": [
        "---\n",
        "\n",
        "\n",
        "\n",
        "\n",
        "*Have questions or comments? Visit the [course discussion forum](https://www.kaggle.com/learn/geospatial-analysis/discussion) to chat with other learners.*"
      ]
    }
  ],
  "metadata": {
    "colab": {
      "provenance": []
    },
    "kernelspec": {
      "display_name": "Python 3",
      "language": "python",
      "name": "python3"
    },
    "language_info": {
      "codemirror_mode": {
        "name": "ipython",
        "version": 3
      },
      "file_extension": ".py",
      "mimetype": "text/x-python",
      "name": "python",
      "nbconvert_exporter": "python",
      "pygments_lexer": "ipython3",
      "version": "3.6.5"
    }
  },
  "nbformat": 4,
  "nbformat_minor": 0
}
